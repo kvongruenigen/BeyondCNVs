{
 "cells": [
  {
   "cell_type": "code",
   "execution_count": 1,
   "id": "e3467ffc",
   "metadata": {},
   "outputs": [],
   "source": [
    "# Libraries\n",
    "import requests\n",
    "import json\n",
    "import re"
   ]
  },
  {
   "cell_type": "code",
   "execution_count": 7,
   "id": "e3afbf7a",
   "metadata": {},
   "outputs": [
    {
     "name": "stdout",
     "output_type": "stream",
     "text": [
      "\r\n",
      "\n"
     ]
    }
   ],
   "source": [
    "# Filtering\n",
    "\n",
    "import requests\n",
    "import json\n",
    "import re\n",
    "\n",
    "def get_ids(filter1, filter2, filter3):\n",
    "\n",
    "    fields = [\n",
    "        \"file_name\",\n",
    "        \"cases.submitter_id\",\n",
    "        \"cases.samples.sample_type\",\n",
    "        \"cases.disease_type\",\n",
    "        \"cases.project.project_id\"\n",
    "        ]\n",
    "\n",
    "    fields = \",\".join(fields)\n",
    "\n",
    "    files_endpt = \"https://api.gdc.cancer.gov/files\"\n",
    "\n",
    "    # This set of filters is nested under an 'and' operator.\n",
    "    filters = {\n",
    "        \"op\": \"and\",\n",
    "        \"content\":[\n",
    "            {\n",
    "            \"op\": \"in\",\n",
    "            \"content\":{\n",
    "                \"field\": \"cases.project.primary_site\",\n",
    "                \"value\": [filter1] # \"Lung\"\n",
    "                }\n",
    "            },\n",
    "            {\n",
    "            \"op\": \"in\",\n",
    "            \"content\":{\n",
    "                \"field\": \"files.experimental_strategy\",\n",
    "                \"value\": [filter2] # \"RNA-Seq\"\n",
    "                }\n",
    "            },\n",
    "            {\n",
    "            \"op\": \"in\",\n",
    "            \"content\":{\n",
    "                \"field\": \"files.data_format\",\n",
    "                \"value\": [filter3] # \"BAM\"\n",
    "                }\n",
    "            }\n",
    "        ]\n",
    "    }\n",
    "\n",
    "    # A POST is used, so the filter parameters can be passed directly as a Dict object.\n",
    "    params = {\n",
    "        \"filters\": filters,\n",
    "        \"fields\": fields,\n",
    "        \"format\": \"TSV\",\n",
    "        \"size\": \"2000\"\n",
    "        }\n",
    "    # The parameters are passed to 'json' rather than 'params' in this case\n",
    "    response = requests.post(files_endpt, headers = {\"Content-Type\": \"application/json\"}, json = params)\n",
    "\n",
    "    print(response.content.decode(\"utf-8\"))\n",
    "    \n",
    "get_ids(\"Lung\", \"RNA-seq\", \"BAM\")"
   ]
  },
  {
   "cell_type": "code",
   "execution_count": 4,
   "id": "e79c7dfd",
   "metadata": {},
   "outputs": [],
   "source": [
    "# Post Request to Download Multiple Files\n",
    "\n",
    "import requests\n",
    "import json\n",
    "import re\n",
    "\n",
    "data_endpt = \"https://api.gdc.cancer.gov/data\"\n",
    "\n",
    "ids = [\n",
    "    \"b658d635-258a-4f6f-8377-767a43771fe4\",\n",
    "    \"3968213d-b293-4b3d-8033-5b5a0ca07b6c\"\n",
    "    ]\n",
    "\n",
    "params = {\"ids\": ids}\n",
    "\n",
    "response = requests.post(data_endpt,\n",
    "                        data = json.dumps(params),\n",
    "                        headers={\n",
    "                            \"Content-Type\": \"application/json\"\n",
    "                            })\n",
    "\n",
    "response_head_cd = response.headers[\"Content-Disposition\"]\n",
    "\n",
    "file_name = re.findall(\"filename=(.+)\", response_head_cd)[0]\n",
    "\n",
    "with open(file_name, \"wb\") as output_file:\n",
    "    output_file.write(response.content)"
   ]
  },
  {
   "cell_type": "code",
   "execution_count": 9,
   "id": "d201302b",
   "metadata": {},
   "outputs": [],
   "source": [
    "def saymyname(name):\n",
    "    print(name)"
   ]
  },
  {
   "cell_type": "code",
   "execution_count": null,
   "id": "01b33461",
   "metadata": {},
   "outputs": [],
   "source": []
  }
 ],
 "metadata": {
  "kernelspec": {
   "display_name": "Python 3 (ipykernel)",
   "language": "python",
   "name": "python3"
  },
  "language_info": {
   "codemirror_mode": {
    "name": "ipython",
    "version": 3
   },
   "file_extension": ".py",
   "mimetype": "text/x-python",
   "name": "python",
   "nbconvert_exporter": "python",
   "pygments_lexer": "ipython3",
   "version": "3.10.10"
  }
 },
 "nbformat": 4,
 "nbformat_minor": 5
}
