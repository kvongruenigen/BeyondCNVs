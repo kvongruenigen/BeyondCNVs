{
 "cells": [
  {
   "cell_type": "code",
   "execution_count": 1,
   "id": "be838f5e",
   "metadata": {},
   "outputs": [],
   "source": [
    "import pandas as pd\n",
    "import hgvs.validator\n",
    "\n",
    "df = pd.read_csv('../temp/mapfile.tsv', sep = '\\t')\n",
    "df = df[['chromosome', 'hgvsc', 'hgvsp', 'hgvsp_short', 'refseq']]"
   ]
  },
  {
   "cell_type": "code",
   "execution_count": 6,
   "id": "883b113d",
   "metadata": {},
   "outputs": [
    {
     "data": {
      "text/html": [
       "<div>\n",
       "<style scoped>\n",
       "    .dataframe tbody tr th:only-of-type {\n",
       "        vertical-align: middle;\n",
       "    }\n",
       "\n",
       "    .dataframe tbody tr th {\n",
       "        vertical-align: top;\n",
       "    }\n",
       "\n",
       "    .dataframe thead th {\n",
       "        text-align: right;\n",
       "    }\n",
       "</style>\n",
       "<table border=\"1\" class=\"dataframe\">\n",
       "  <thead>\n",
       "    <tr style=\"text-align: right;\">\n",
       "      <th></th>\n",
       "      <th>chromosome</th>\n",
       "      <th>hgvsc</th>\n",
       "      <th>hgvsp</th>\n",
       "      <th>hgvsp_short</th>\n",
       "      <th>refseq</th>\n",
       "    </tr>\n",
       "  </thead>\n",
       "  <tbody>\n",
       "    <tr>\n",
       "      <th>0</th>\n",
       "      <td>chr1</td>\n",
       "      <td>c.1760C&gt;G</td>\n",
       "      <td>p.Ser587Cys</td>\n",
       "      <td>p.S587C</td>\n",
       "      <td>NM_001319683.1;NM_053274.3</td>\n",
       "    </tr>\n",
       "    <tr>\n",
       "      <th>1</th>\n",
       "      <td>chr1</td>\n",
       "      <td>c.103G&gt;C</td>\n",
       "      <td>p.Gly35Arg</td>\n",
       "      <td>p.G35R</td>\n",
       "      <td>NM_001379046.1;NM_001379045.1;NM_001379047.1;N...</td>\n",
       "    </tr>\n",
       "    <tr>\n",
       "      <th>2</th>\n",
       "      <td>chr2</td>\n",
       "      <td>c.658A&gt;T</td>\n",
       "      <td>p.Ser220Cys</td>\n",
       "      <td>p.S220C</td>\n",
       "      <td>NM_000183.3</td>\n",
       "    </tr>\n",
       "    <tr>\n",
       "      <th>3</th>\n",
       "      <td>chr2</td>\n",
       "      <td>c.1380C&gt;A</td>\n",
       "      <td>p.Gly460=</td>\n",
       "      <td>p.G460=</td>\n",
       "      <td>NM_014600.3</td>\n",
       "    </tr>\n",
       "    <tr>\n",
       "      <th>4</th>\n",
       "      <td>chr2</td>\n",
       "      <td>c.3484C&gt;A</td>\n",
       "      <td>p.His1162Asn</td>\n",
       "      <td>p.H1162N</td>\n",
       "      <td>NM_144992.5;NM_001345864.2</td>\n",
       "    </tr>\n",
       "    <tr>\n",
       "      <th>...</th>\n",
       "      <td>...</td>\n",
       "      <td>...</td>\n",
       "      <td>...</td>\n",
       "      <td>...</td>\n",
       "      <td>...</td>\n",
       "    </tr>\n",
       "    <tr>\n",
       "      <th>2570085</th>\n",
       "      <td>chrX</td>\n",
       "      <td>c.813G&gt;A</td>\n",
       "      <td>p.Thr271=</td>\n",
       "      <td>p.T271=</td>\n",
       "      <td>NM_000868.3</td>\n",
       "    </tr>\n",
       "    <tr>\n",
       "      <th>2570086</th>\n",
       "      <td>chrX</td>\n",
       "      <td>c.1022T&gt;G</td>\n",
       "      <td>p.Val341Gly</td>\n",
       "      <td>p.V341G</td>\n",
       "      <td>NM_018388.3</td>\n",
       "    </tr>\n",
       "    <tr>\n",
       "      <th>2570087</th>\n",
       "      <td>chrX</td>\n",
       "      <td>c.165T&gt;A</td>\n",
       "      <td>p.Phe55Leu</td>\n",
       "      <td>p.F55L</td>\n",
       "      <td>NM_000133.4</td>\n",
       "    </tr>\n",
       "    <tr>\n",
       "      <th>2570088</th>\n",
       "      <td>chrX</td>\n",
       "      <td>c.56G&gt;T</td>\n",
       "      <td>p.Arg19Leu</td>\n",
       "      <td>p.R19L</td>\n",
       "      <td>NM_001001344.2</td>\n",
       "    </tr>\n",
       "    <tr>\n",
       "      <th>2570089</th>\n",
       "      <td>chrX</td>\n",
       "      <td>c.595C&gt;T</td>\n",
       "      <td>p.Arg199Trp</td>\n",
       "      <td>p.R199W</td>\n",
       "      <td>NM_001001344.2</td>\n",
       "    </tr>\n",
       "  </tbody>\n",
       "</table>\n",
       "<p>2570090 rows × 5 columns</p>\n",
       "</div>"
      ],
      "text/plain": [
       "        chromosome      hgvsc         hgvsp hgvsp_short  \\\n",
       "0             chr1  c.1760C>G   p.Ser587Cys     p.S587C   \n",
       "1             chr1   c.103G>C    p.Gly35Arg      p.G35R   \n",
       "2             chr2   c.658A>T   p.Ser220Cys     p.S220C   \n",
       "3             chr2  c.1380C>A     p.Gly460=     p.G460=   \n",
       "4             chr2  c.3484C>A  p.His1162Asn    p.H1162N   \n",
       "...            ...        ...           ...         ...   \n",
       "2570085       chrX   c.813G>A     p.Thr271=     p.T271=   \n",
       "2570086       chrX  c.1022T>G   p.Val341Gly     p.V341G   \n",
       "2570087       chrX   c.165T>A    p.Phe55Leu      p.F55L   \n",
       "2570088       chrX    c.56G>T    p.Arg19Leu      p.R19L   \n",
       "2570089       chrX   c.595C>T   p.Arg199Trp     p.R199W   \n",
       "\n",
       "                                                    refseq  \n",
       "0                               NM_001319683.1;NM_053274.3  \n",
       "1        NM_001379046.1;NM_001379045.1;NM_001379047.1;N...  \n",
       "2                                              NM_000183.3  \n",
       "3                                              NM_014600.3  \n",
       "4                               NM_144992.5;NM_001345864.2  \n",
       "...                                                    ...  \n",
       "2570085                                        NM_000868.3  \n",
       "2570086                                        NM_018388.3  \n",
       "2570087                                        NM_000133.4  \n",
       "2570088                                     NM_001001344.2  \n",
       "2570089                                     NM_001001344.2  \n",
       "\n",
       "[2570090 rows x 5 columns]"
      ]
     },
     "execution_count": 6,
     "metadata": {},
     "output_type": "execute_result"
    }
   ],
   "source": [
    "df"
   ]
  },
  {
   "cell_type": "code",
   "execution_count": 4,
   "id": "2103784e",
   "metadata": {},
   "outputs": [],
   "source": [
    "\n",
    "# Format:\n",
    "# NG_012337.3(NM_003002.4):c.274G>T where possible\n",
    "# NC_000011.10:g.112088970del also possible"
   ]
  },
  {
   "cell_type": "code",
   "execution_count": 7,
   "id": "6f94b838",
   "metadata": {},
   "outputs": [],
   "source": [
    "hgvs_format = []\n",
    "for i, row in df.iterrows():\n",
    "    hgvs_format.append(str(row['chromosome']) + ':' + str(row['hgvsc']))"
   ]
  },
  {
   "cell_type": "code",
   "execution_count": 8,
   "id": "e9074b6f",
   "metadata": {
    "scrolled": true
   },
   "outputs": [
    {
     "data": {
      "text/plain": [
       "['chr1:c.1760C>G',\n",
       " 'chr1:c.103G>C',\n",
       " 'chr2:c.658A>T',\n",
       " 'chr2:c.1380C>A',\n",
       " 'chr2:c.3484C>A',\n",
       " 'chr2:c.2510T>A',\n",
       " 'chr2:c.1097_1099del',\n",
       " 'chr3:c.934C>T',\n",
       " 'chr3:c.1160C>G',\n",
       " 'chr3:c.1339A>G']"
      ]
     },
     "execution_count": 8,
     "metadata": {},
     "output_type": "execute_result"
    }
   ],
   "source": [
    "hgvs_format[0:10]"
   ]
  },
  {
   "cell_type": "code",
   "execution_count": null,
   "id": "c8630479",
   "metadata": {},
   "outputs": [],
   "source": [
    "'NM_001291345.2&NM_033487.3&NM_033490.3&NM_033486.3,c.1142G>C,chr1'\n",
    "\n",
    "chr1:c.1142G>C"
   ]
  }
 ],
 "metadata": {
  "kernelspec": {
   "display_name": "hgvs",
   "language": "python",
   "name": "hgvs"
  },
  "language_info": {
   "codemirror_mode": {
    "name": "ipython",
    "version": 3
   },
   "file_extension": ".py",
   "mimetype": "text/x-python",
   "name": "python",
   "nbconvert_exporter": "python",
   "pygments_lexer": "ipython3",
   "version": "3.10.9"
  }
 },
 "nbformat": 4,
 "nbformat_minor": 5
}
