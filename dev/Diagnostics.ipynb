{
 "cells": [
  {
   "cell_type": "code",
   "execution_count": null,
   "id": "bd811f38",
   "metadata": {},
   "outputs": [],
   "source": [
    "###############################################################################################################\n",
    "##################################### Diagnostics #############################################################\n",
    "###############################################################################################################"
   ]
  },
  {
   "cell_type": "code",
   "execution_count": null,
   "id": "0df268c5",
   "metadata": {},
   "outputs": [],
   "source": [
    "# Findings!\n",
    "# The sample ids have hierarchy:\n",
    "# Case UUID: becedbfd-b2aa-4dde-b7f4-29e6f59ec32c in data bank\n",
    "# Sample UUID: f6ee8148-9fb7-404e-b951-d1af8d06974f not in data bank\n",
    "# Belongs to sample TCGA-E2-A1IK-01A\n",
    "# Sample UUID: 8577ac01-1274-4bd5-ab04-380eaa78d95b in data bank\n",
    "# Belongs to aliquot TCGA-E2-A1IK-01A-11D-A17G-09\n",
    "# TCGA-E2-A1IK-01A\n",
    "#     Portions\n",
    "#     TCGA-E2-A1IK-01A-11\n",
    "#         Analytes\n",
    "#         TCGA-E2-A1IK-01A-11D\n",
    "#             Aliquots\n",
    "#             TCGA-E2-A1IK-01A-11D-A141-01\n",
    "#             TCGA-E2-A1IK-01A-11D-A17G-09\n",
    "#             TCGA-E2-A1IK-01A-11D-A140-02\n",
    "#             TCGA-E2-A1IK-01A-11D-A142-09\n",
    "#             TCGA-E2-A1IK-01A-11D-A145-05\n",
    "\n",
    "# Solution: find sample UUID of aliquot sample UUID -> R package TCGAutils\n",
    "\n",
    "# Sample and case id counts\n",
    "# Case hits\n",
    "#  Single hits: 9775 \n",
    "# Multiple hits: 125 \n",
    "# No hit: 208 \n",
    "# Total: 10108 \n",
    "\n",
    "# Sample Hits:\n",
    "#  Single hits: 10003 \n",
    "# Multiple hits: 0 \n",
    "# No hit: 243 \n",
    "# Total: 10108\n",
    "\n",
    "# COSMIC is in TCGA\n",
    "# 118 - COSMIC\tOverlapping COSMIC variants\n"
   ]
  },
  {
   "cell_type": "code",
   "execution_count": 16,
   "id": "78b72f09",
   "metadata": {
    "scrolled": true
   },
   "outputs": [
    {
     "name": "stdout",
     "output_type": "stream",
     "text": [
      "Case hits\n",
      " Single hits: 9775 \n",
      "Multiple hits: 125 \n",
      "No hit: 208 \n",
      "Total: 10108 \n",
      "\n",
      "Sample Hits:\n",
      " Single hits: 10003 \n",
      "Multiple hits: 0 \n",
      "No hit: 243 \n",
      "Total: 10108\n"
     ]
    }
   ],
   "source": [
    "###############################################################################################################\n",
    "##################################### Sample and case counts ##################################################\n",
    "###############################################################################################################\n",
    "\n",
    "import pandas as pd\n",
    "from pymongo import MongoClient\n",
    "\n",
    "# Connect to MongoDB\n",
    "client = MongoClient()\n",
    "db = client.progenetix\n",
    "bs = db.biosamples\n",
    "\n",
    "# Read in dataframe from intermediate and mapping file\n",
    "df = pd.read_csv('../temp/mapfile.tsv', sep = '\\t') \n",
    "cases = list(set(df['case_id']))\n",
    "samples = list(set(df['sample_id']))\n",
    "\n",
    "hits_c = []\n",
    "\n",
    "for ids in cases:\n",
    "    n_hits_c = bs.count_documents({\"external_references.id\": {'$regex': ids} ,\"biosample_status.id\":\"EFO:0009656\"})\n",
    "    hits_c.append(n_hits_c)\n",
    "    \n",
    "c_single_hit = 0\n",
    "c_multiple_hits = 0\n",
    "c_no_hit = 0\n",
    "\n",
    "for i in hits_c:\n",
    "    if i == 1:\n",
    "        c_single_hit += 1\n",
    "    if i == 0:\n",
    "        c_no_hit += 1\n",
    "    if i != 0 and i != 1:\n",
    "        c_multiple_hits += 1\n",
    "\n",
    "print(\"Case hits\",  \"\\nSingle hits:\", c_single_hit, \"\\nMultiple hits:\", c_multiple_hits,\n",
    "      \"\\nNo hit:\", c_no_hit, \"\\nTotal:\", len(hits_c), \"\\n\")\n",
    "\n",
    "hits_s = []\n",
    "\n",
    "for ids in samples:\n",
    "    n_hits_s = bs.count_documents({\"external_references.id\": {'$regex': ids} ,\"biosample_status.id\":\"EFO:0009656\"})\n",
    "    hits_s.append(n_hits_s)\n",
    "\n",
    "s_single_hit = 0\n",
    "s_multiple_hits = 0\n",
    "s_no_hit = 0\n",
    "\n",
    "for i in hits_s:\n",
    "    if i == 1:\n",
    "        s_single_hit += 1\n",
    "    if i == 0:\n",
    "        s_no_hit += 1\n",
    "    if i != 0 and i != 1:\n",
    "        s_multiple_hits += 1\n",
    "\n",
    "print(\"Sample Hits:\", \"\\nSingle hits:\", s_single_hit, \"\\nMultiple hits:\", s_multiple_hits,\n",
    "      \"\\nNo hit:\", s_no_hit, \"\\nTotal:\", len(hits_c))"
   ]
  },
  {
   "cell_type": "code",
   "execution_count": null,
   "id": "733078f8",
   "metadata": {},
   "outputs": [],
   "source": [
    "# Case hits\n",
    "#  Single hits: 9775 \n",
    "# Multiple hits: 125 \n",
    "# No hit: 208 \n",
    "# Total: 10108 \n",
    "\n",
    "# Sample Hits:\n",
    "#  Single hits: 10003 \n",
    "# Multiple hits: 0 \n",
    "# No hit: 243 \n",
    "# Total: 10108"
   ]
  }
 ],
 "metadata": {
  "kernelspec": {
   "display_name": "Python 3 (ipykernel)",
   "language": "python",
   "name": "python3"
  },
  "language_info": {
   "codemirror_mode": {
    "name": "ipython",
    "version": 3
   },
   "file_extension": ".py",
   "mimetype": "text/x-python",
   "name": "python",
   "nbconvert_exporter": "python",
   "pygments_lexer": "ipython3",
   "version": "3.10.9"
  }
 },
 "nbformat": 4,
 "nbformat_minor": 5
}
