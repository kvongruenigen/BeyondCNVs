{
 "cells": [
  {
   "cell_type": "code",
   "execution_count": null,
   "id": "aaf4415e",
   "metadata": {},
   "outputs": [],
   "source": [
    "# Scripts to do:\n",
    "# - Refresher\n",
    "# - Mapper"
   ]
  },
  {
   "cell_type": "code",
   "execution_count": 1,
   "id": "16ae21ed",
   "metadata": {},
   "outputs": [],
   "source": [
    "import pandas as pd\n",
    "\n",
    "df = pd.read_csv('/Users/kayvongrunigen/switchdrive/baudisgroup/varImportTestSNVs.tsv', sep = '\\t', header = 0)\n"
   ]
  },
  {
   "cell_type": "code",
   "execution_count": 3,
   "id": "0e16102a",
   "metadata": {},
   "outputs": [],
   "source": [
    "df['snv_type'] = df['variant_class']\n",
    "# Clean up\n",
    "df = df[[\"biosample_id\", \"variant_id\", \"callset_id\", \"individual_id\",\n",
    "    \"reference_name\", \"start\", \"end\", \"reference_bases\",\n",
    "    \"alternate_bases\", \"variant_classification\", \"variant_state_id\",\n",
    "    \"specific_so\", \"aliquot_id\", \"reference_id\", \"case_id\",\n",
    "    \"sample_id\", \"snv_type\"]]\n",
    "\n",
    "df.to_csv('/Users/kayvongrunigen/switchdrive/baudisgroup/varImportTestSNVs.tsv', sep = \"\\t\", index = False)  # and create .tsv file in the directory"
   ]
  },
  {
   "cell_type": "code",
   "execution_count": null,
   "id": "a1e0f556",
   "metadata": {},
   "outputs": [],
   "source": [
    "#### Issues\n",
    "# Why do I change variant_type to variant_types\n",
    "# Why is there \\n in the case ids\n"
   ]
  },
  {
   "cell_type": "code",
   "execution_count": 124,
   "id": "c3a7604f",
   "metadata": {},
   "outputs": [
    {
     "name": "stdout",
     "output_type": "stream",
     "text": [
      "Preparation for mapping...\n",
      "Starting progenetix mapping...\n"
     ]
    },
    {
     "name": "stderr",
     "output_type": "stream",
     "text": [
      "100%|█████████████████████████████████████| 10540/10540 [51:20<00:00,  3.42it/s]\n"
     ]
    }
   ],
   "source": [
    "import pandas as pd\n",
    "from bycon_helpers import *\n",
    "from pymongo import MongoClient\n",
    "from tqdm import tqdm\n",
    "\n",
    "# Connect to MongoDB\n",
    "client = MongoClient()\n",
    "db = client.progenetix\n",
    "bs = db.biosamples\n",
    "\n",
    "# Read the data frame\n",
    "df = pd.read_csv(\"../temp/mapfile.tsv\", sep = \"\\t\",\n",
    "    header = 0, low_memory = False)\n",
    "\n",
    "print(\"Preparation for mapping...\")\n",
    "# Create legacy ids / external references\n",
    "df[\"case_id\"] = \"pgx:TCGA.\" + df[\"case_id\"]\n",
    "df[\"sample_id\"] = \"pgx:TCGA.\" + df[\"sample_id\"]\n",
    "\n",
    "# Create placeholder for variant id, gets created while import\n",
    "df[\"variant_id\"] = [\" \"] * len(df)\n",
    "\n",
    "# Naming convention from progenetix\n",
    "df[\"variant_state_id\"] = [\"SO:0001059\"] * len(df)\n",
    "df[\"variant_types\"] = df[\"variant_type\"]\n",
    "df[\"reference_name\"] = df[\"chromosome\"].str.slice(start=3)\n",
    "\n",
    "# Adding sequence ontologies - http://www.sequenceontology.org/browser/\n",
    "df.loc[df[\"variant_type\"] == \"SNP\", \"specific_so\"] = \"SO:0001483\"\n",
    "df.loc[df[\"variant_type\"] == \"TNP\", \"specific_so\"] = \"SO:0002007\"\n",
    "df.loc[df[\"variant_type\"] == \"ONP\", \"specific_so\"] = \"SO:0002007\"\n",
    "df.loc[df[\"variant_type\"] == \"DEL\", \"specific_so\"] = \"SO:0000159\"\n",
    "df.loc[df[\"variant_type\"] == \"INS\", \"specific_so\"] = \"SO:0000667\"\n",
    "\n",
    "# Convert 1-based MAF files to 0-based\n",
    "# Explanation @ https://www.biostars.org/p/84686/\n",
    "df.loc[df[\"variant_type\"].isin([\"SNP\", \"TNP\", \"ONP\", \"DEL\"]), \"start\"] -= 1\n",
    "df.loc[df[\"variant_type\"] == \"INS\", \"end\"] -= 1\n",
    "\n",
    "# Generate callset_ids per aliquot for import and map sample_id to biosample_id\n",
    "print(\"Starting progenetix mapping...\")\n",
    "\n",
    "biosample_mapping = {}\n",
    "\n",
    "for aliquot in tqdm(set(df[\"aliquot_id\"])):\n",
    "\n",
    "    sample_id = df.loc[df[\"aliquot_id\"] == aliquot, \"sample_id\"].iloc[0]\n",
    "\n",
    "    if sample_id not in biosample_mapping:\n",
    "        hit = bs.find({\"external_references.id\": {\"$regex\": sample_id},\n",
    "                        \"biosample_status.id\": \"EFO:0009656\"})\n",
    "\n",
    "        for entry in hit:\n",
    "            biosample_mapping[sample_id] = (entry[\"id\"], entry[\"individual_id\"])\n",
    "\n",
    "            break\n",
    "\n",
    "    biosample_id, individual_id = biosample_mapping.get(sample_id, (\"\", \"\"))\n",
    "\n",
    "    cs_id = generate_id(\"pgxcs\")\n",
    "\n",
    "    df.loc[df[\"aliquot_id\"] == aliquot,\n",
    "        [\"callset_id\", \"biosample_id\", \"individual_id\"]] = cs_id, biosample_id, individual_id\n",
    "\n",
    "\n",
    "# Clean up\n",
    "df = df[[\"biosample_id\", \"variant_id\", \"callset_id\", \"individual_id\",\n",
    "    \"reference_name\", \"start\", \"end\", \"reference_bases\",\n",
    "    \"alternate_bases\", \"variant_classification\", \"variant_state_id\",\n",
    "    \"specific_so\", \"hgvsc\", \"hgvsp\", \"hgvsp_short\", \"aliquot_id\",\n",
    "    \"reference_id\", \"case_id\", \"sample_id\", \"variant_types\",\n",
    "    \"all_effects\", \"transcript_id\", \"gene\", \"feature\",\n",
    "    \"feature_type\", \"hgnc_id\", \"ensp\", \"refseq\"]]"
   ]
  },
  {
   "cell_type": "code",
   "execution_count": 130,
   "id": "08670c65",
   "metadata": {},
   "outputs": [
    {
     "data": {
      "text/plain": [
       "True"
      ]
     },
     "execution_count": 130,
     "metadata": {},
     "output_type": "execute_result"
    }
   ],
   "source": [
    "len(variants_in_db) == len(df.dropna(subset=['biosample_id']))"
   ]
  },
  {
   "cell_type": "code",
   "execution_count": 125,
   "id": "4b0003f5",
   "metadata": {
    "scrolled": true
   },
   "outputs": [
    {
     "name": "stdout",
     "output_type": "stream",
     "text": [
      "Empty DataFrame\n",
      "Columns: [biosample_id, variant_id, callset_id, individual_id, reference_name, start, end, reference_bases, alternate_bases, variant_classification, variant_state_id, specific_so, hgvsc, hgvsp, hgvsp_short, aliquot_id, reference_id, case_id, sample_id, variant_types, all_effects, transcript_id, gene, feature, feature_type, hgnc_id, ensp, refseq]\n",
      "Index: []\n",
      "\n",
      "[0 rows x 28 columns]\n"
     ]
    }
   ],
   "source": [
    "variants_in_db = df.dropna(subset = [\"biosample_id\"])\n",
    "new = df[df[\"biosample_id\"].isna()]\n",
    "print(new)"
   ]
  },
  {
   "cell_type": "code",
   "execution_count": 82,
   "id": "bbef0253",
   "metadata": {
    "scrolled": true
   },
   "outputs": [],
   "source": [
    "import pandas as pd\n",
    "from pymongo import MongoClient\n",
    "from tqdm import tqdm\n",
    "\n",
    "# Connect to MongoDB\n",
    "client = MongoClient()\n",
    "db = client.progenetix\n",
    "bs = db.biosamples\n",
    "\n",
    "# Read the data frame\n",
    "df = pd.read_csv('../temp/mapfile.tsv', sep='\\t',\n",
    "    header=0, low_memory = False)\n",
    "\n",
    "\n",
    "all_effects = pd.DataFrame()\n",
    "columns = ['Symbol','Consequence','HGVSp_Short','Transcript_ID','RefSeq','HGVSc','Impact','Canonical','Sift',\n",
    "          'PolyPhen','Strand']\n",
    "for col in columns:\n",
    "    all_effects[col] = []\n",
    "\n",
    "effects = []\n",
    "for effect in df['all_effects']:\n",
    "    info = effect.split(';')\n",
    "    for eff in info:\n",
    "        effects.append(eff.split(','))\n",
    "\n",
    "for eff in effects:\n",
    "    all_effects.loc[len(all_effects)] = eff\n",
    "\n",
    "all_effects"
   ]
  },
  {
   "cell_type": "code",
   "execution_count": 2,
   "id": "6c934c41",
   "metadata": {},
   "outputs": [],
   "source": [
    "import os\n",
    "from pymongo import MongoClient\n",
    "import bycon\n",
    "import pandas as pd\n",
    "import time, base36\n",
    "\n",
    "# Prepare mongodb tools\n",
    "client = MongoClient()\n",
    "db = client.progenetix\n",
    "bs = db.biosamples"
   ]
  },
  {
   "cell_type": "code",
   "execution_count": 3,
   "id": "0e9097e8",
   "metadata": {},
   "outputs": [],
   "source": [
    "df = pd.read_csv('../temp/mappingfile.tsv', sep = '\\t')"
   ]
  },
  {
   "cell_type": "code",
   "execution_count": 16,
   "id": "ae9bc6df",
   "metadata": {},
   "outputs": [
    {
     "data": {
      "text/plain": [
       "Index(['biosample_id', 'variant_id', 'callset_id', 'chromosome', 'start',\n",
       "       'end', 'strand', 'reference_bases', 'alternate_bases', 'hgvsc',\n",
       "       'variant_classification', 'variant_type', 'hgvsp', 'hgvsp_short',\n",
       "       'aliquot_id', 'reference_id', 'case_id', 'sample_id'],\n",
       "      dtype='object')"
      ]
     },
     "execution_count": 16,
     "metadata": {},
     "output_type": "execute_result"
    }
   ],
   "source": [
    "df.keys()"
   ]
  },
  {
   "cell_type": "code",
   "execution_count": 14,
   "id": "cbebcb10",
   "metadata": {},
   "outputs": [],
   "source": [
    "dd_filtered = df.loc[df['variant_type'] == 'SNP', ['hgvsc', 'reference_bases',\n",
    "                                                   'alternate_bases', 'start', 'end']].copy()\n",
    "INS = df.loc[df['variant_type'] == 'INS', ['start', 'end', 'reference_bases', 'alternate_bases']].copy()\n",
    "# Drop rows with missing values in HGVSC\n",
    "dd_filtered.dropna(subset=['hgvsc'], inplace=True)\n",
    "\n",
    "# Extract the last character from HGVSC and assign it to a new column 'HGVSC_ref_base'\n",
    "dd_filtered['HGVSC_ref_base'] = dd_filtered['hgvsc'].str.split('>').str[0].str[-1]\n",
    "dd_filtered['HGVSC_alt_base'] = dd_filtered['hgvsc'].str.split('>').str[1]\n",
    "\n",
    "\n",
    "# Reset the index if necessary\n",
    "dd_filtered.reset_index(drop=True, inplace=True)\n",
    "\n",
    "compare = dd_filtered[['hgvsc', 'start', 'end', 'HGVSC_ref_base', 'reference_bases', 'HGVSC_alt_base', 'alternate_bases']]\n",
    "issues = compare[compare['reference_bases'] != compare['HGVSC_ref_base']]\n",
    "correct = compare[compare['reference_bases'] == compare['HGVSC_ref_base']]"
   ]
  },
  {
   "cell_type": "code",
   "execution_count": 15,
   "id": "8f5eb513",
   "metadata": {},
   "outputs": [
    {
     "data": {
      "text/html": [
       "<div>\n",
       "<style scoped>\n",
       "    .dataframe tbody tr th:only-of-type {\n",
       "        vertical-align: middle;\n",
       "    }\n",
       "\n",
       "    .dataframe tbody tr th {\n",
       "        vertical-align: top;\n",
       "    }\n",
       "\n",
       "    .dataframe thead th {\n",
       "        text-align: right;\n",
       "    }\n",
       "</style>\n",
       "<table border=\"1\" class=\"dataframe\">\n",
       "  <thead>\n",
       "    <tr style=\"text-align: right;\">\n",
       "      <th></th>\n",
       "      <th>hgvsc</th>\n",
       "      <th>start</th>\n",
       "      <th>end</th>\n",
       "      <th>HGVSC_ref_base</th>\n",
       "      <th>reference_bases</th>\n",
       "      <th>HGVSC_alt_base</th>\n",
       "      <th>alternate_bases</th>\n",
       "    </tr>\n",
       "  </thead>\n",
       "  <tbody>\n",
       "    <tr>\n",
       "      <th>1</th>\n",
       "      <td>c.103G&gt;C</td>\n",
       "      <td>226064454</td>\n",
       "      <td>226064454</td>\n",
       "      <td>G</td>\n",
       "      <td>G</td>\n",
       "      <td>C</td>\n",
       "      <td>C</td>\n",
       "    </tr>\n",
       "    <tr>\n",
       "      <th>2</th>\n",
       "      <td>c.658A&gt;T</td>\n",
       "      <td>26279162</td>\n",
       "      <td>26279162</td>\n",
       "      <td>A</td>\n",
       "      <td>A</td>\n",
       "      <td>T</td>\n",
       "      <td>T</td>\n",
       "    </tr>\n",
       "    <tr>\n",
       "      <th>3</th>\n",
       "      <td>c.1380C&gt;A</td>\n",
       "      <td>31266476</td>\n",
       "      <td>31266476</td>\n",
       "      <td>C</td>\n",
       "      <td>C</td>\n",
       "      <td>A</td>\n",
       "      <td>A</td>\n",
       "    </tr>\n",
       "    <tr>\n",
       "      <th>4</th>\n",
       "      <td>c.3484C&gt;A</td>\n",
       "      <td>98303765</td>\n",
       "      <td>98303765</td>\n",
       "      <td>C</td>\n",
       "      <td>C</td>\n",
       "      <td>A</td>\n",
       "      <td>A</td>\n",
       "    </tr>\n",
       "    <tr>\n",
       "      <th>5</th>\n",
       "      <td>c.2510T&gt;A</td>\n",
       "      <td>124764127</td>\n",
       "      <td>124764127</td>\n",
       "      <td>T</td>\n",
       "      <td>T</td>\n",
       "      <td>A</td>\n",
       "      <td>A</td>\n",
       "    </tr>\n",
       "    <tr>\n",
       "      <th>...</th>\n",
       "      <td>...</td>\n",
       "      <td>...</td>\n",
       "      <td>...</td>\n",
       "      <td>...</td>\n",
       "      <td>...</td>\n",
       "      <td>...</td>\n",
       "      <td>...</td>\n",
       "    </tr>\n",
       "    <tr>\n",
       "      <th>2424419</th>\n",
       "      <td>c.315G&gt;T</td>\n",
       "      <td>106612395</td>\n",
       "      <td>106612395</td>\n",
       "      <td>G</td>\n",
       "      <td>G</td>\n",
       "      <td>T</td>\n",
       "      <td>T</td>\n",
       "    </tr>\n",
       "    <tr>\n",
       "      <th>2424420</th>\n",
       "      <td>c.813G&gt;A</td>\n",
       "      <td>114906851</td>\n",
       "      <td>114906851</td>\n",
       "      <td>G</td>\n",
       "      <td>G</td>\n",
       "      <td>A</td>\n",
       "      <td>A</td>\n",
       "    </tr>\n",
       "    <tr>\n",
       "      <th>2424422</th>\n",
       "      <td>c.165T&gt;A</td>\n",
       "      <td>139537086</td>\n",
       "      <td>139537086</td>\n",
       "      <td>T</td>\n",
       "      <td>T</td>\n",
       "      <td>A</td>\n",
       "      <td>A</td>\n",
       "    </tr>\n",
       "    <tr>\n",
       "      <th>2424423</th>\n",
       "      <td>c.56G&gt;T</td>\n",
       "      <td>153536303</td>\n",
       "      <td>153536303</td>\n",
       "      <td>G</td>\n",
       "      <td>G</td>\n",
       "      <td>T</td>\n",
       "      <td>T</td>\n",
       "    </tr>\n",
       "    <tr>\n",
       "      <th>2424424</th>\n",
       "      <td>c.595C&gt;T</td>\n",
       "      <td>153541857</td>\n",
       "      <td>153541857</td>\n",
       "      <td>C</td>\n",
       "      <td>C</td>\n",
       "      <td>T</td>\n",
       "      <td>T</td>\n",
       "    </tr>\n",
       "  </tbody>\n",
       "</table>\n",
       "<p>1209286 rows × 7 columns</p>\n",
       "</div>"
      ],
      "text/plain": [
       "             hgvsc      start        end HGVSC_ref_base reference_bases  \\\n",
       "1         c.103G>C  226064454  226064454              G               G   \n",
       "2         c.658A>T   26279162   26279162              A               A   \n",
       "3        c.1380C>A   31266476   31266476              C               C   \n",
       "4        c.3484C>A   98303765   98303765              C               C   \n",
       "5        c.2510T>A  124764127  124764127              T               T   \n",
       "...            ...        ...        ...            ...             ...   \n",
       "2424419   c.315G>T  106612395  106612395              G               G   \n",
       "2424420   c.813G>A  114906851  114906851              G               G   \n",
       "2424422   c.165T>A  139537086  139537086              T               T   \n",
       "2424423    c.56G>T  153536303  153536303              G               G   \n",
       "2424424   c.595C>T  153541857  153541857              C               C   \n",
       "\n",
       "        HGVSC_alt_base alternate_bases  \n",
       "1                    C               C  \n",
       "2                    T               T  \n",
       "3                    A               A  \n",
       "4                    A               A  \n",
       "5                    A               A  \n",
       "...                ...             ...  \n",
       "2424419              T               T  \n",
       "2424420              A               A  \n",
       "2424422              A               A  \n",
       "2424423              T               T  \n",
       "2424424              T               T  \n",
       "\n",
       "[1209286 rows x 7 columns]"
      ]
     },
     "execution_count": 15,
     "metadata": {},
     "output_type": "execute_result"
    }
   ],
   "source": [
    "correct"
   ]
  }
 ],
 "metadata": {
  "kernelspec": {
   "display_name": "Python 3 (ipykernel)",
   "language": "python",
   "name": "python3"
  },
  "language_info": {
   "codemirror_mode": {
    "name": "ipython",
    "version": 3
   },
   "file_extension": ".py",
   "mimetype": "text/x-python",
   "name": "python",
   "nbconvert_exporter": "python",
   "pygments_lexer": "ipython3",
   "version": "3.10.9"
  }
 },
 "nbformat": 4,
 "nbformat_minor": 5
}
