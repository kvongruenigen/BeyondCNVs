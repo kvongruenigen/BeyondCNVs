{
 "cells": [
  {
   "cell_type": "code",
   "execution_count": null,
   "id": "aaf4415e",
   "metadata": {},
   "outputs": [],
   "source": [
    "# Scripts to do:\n",
    "# - Refresher\n",
    "# - Mapper"
   ]
  },
  {
   "cell_type": "code",
   "execution_count": 1,
   "id": "fe7ed92d",
   "metadata": {},
   "outputs": [
    {
     "name": "stdout",
     "output_type": "stream",
     "text": [
      "Starting data extraction...\n"
     ]
    }
   ],
   "source": [
    "# Module import\n",
    "import pandas as pd\n",
    "import os\n",
    "\n",
    "# This is a list of combined identifiers and variant information\n",
    "# Documentation: \n",
    "# https://docs.gdc.cancer.gov/Data/File_Formats/MAF_Format/\n",
    "relevant_columns = ['Tumor_Sample_UUID','Matched_Norm_Sample_UUID',\n",
    "                    'case_id', 'NCBI_Build','Chromosome', \n",
    "                    'Start_Position','End_Position',\n",
    "                    'Variant_Classification', 'Variant_Type',\n",
    "                    'Reference_Allele', 'Tumor_Seq_Allele2',\n",
    "                    'HGVSc', 'HGVSp', 'HGVSp_Short',\n",
    "                    'Tumor_Sample_Barcode', 'all_effects',\n",
    "                    'Transcript_ID', 'Gene', 'Feature',\n",
    "                    'Feature_type', 'HGNC_ID', 'ENSP',\n",
    "                    'RefSeq']\n",
    "\n",
    "# Create a dataframe for the data\n",
    "data = pd.DataFrame()\n",
    "\n",
    "# Assign columns from relevant list\n",
    "for info in relevant_columns:\n",
    "    data[info] = []\n",
    "\n",
    "# Iterate through directory with downloaded maf files and\n",
    "# load the relevant information in 'data'\n",
    "\n",
    "print('Starting data extraction...')"
   ]
  },
  {
   "cell_type": "code",
   "execution_count": 9,
   "id": "ce055bfd",
   "metadata": {},
   "outputs": [
    {
     "name": "stderr",
     "output_type": "stream",
     "text": [
      " 20%|█████████                                    | 1/5 [00:02<00:08,  2.01s/it]"
     ]
    },
    {
     "name": "stdout",
     "output_type": "stream",
     "text": [
      "aaa\n"
     ]
    },
    {
     "name": "stderr",
     "output_type": "stream",
     "text": [
      "\r",
      " 40%|██████████████████                           | 2/5 [00:04<00:06,  2.01s/it]"
     ]
    },
    {
     "name": "stdout",
     "output_type": "stream",
     "text": [
      "bbb\n"
     ]
    },
    {
     "name": "stderr",
     "output_type": "stream",
     "text": [
      "\r",
      " 60%|███████████████████████████                  | 3/5 [00:06<00:04,  2.01s/it]"
     ]
    },
    {
     "name": "stdout",
     "output_type": "stream",
     "text": [
      "ccc\n"
     ]
    },
    {
     "name": "stderr",
     "output_type": "stream",
     "text": [
      "\r",
      " 80%|████████████████████████████████████         | 4/5 [00:08<00:02,  2.01s/it]"
     ]
    },
    {
     "name": "stdout",
     "output_type": "stream",
     "text": [
      "ddd\n"
     ]
    },
    {
     "name": "stderr",
     "output_type": "stream",
     "text": [
      "100%|█████████████████████████████████████████████| 5/5 [00:10<00:00,  2.01s/it]"
     ]
    },
    {
     "name": "stdout",
     "output_type": "stream",
     "text": [
      "eee\n"
     ]
    },
    {
     "name": "stderr",
     "output_type": "stream",
     "text": [
      "\n"
     ]
    }
   ],
   "source": [
    "import time\n",
    "from tqdm import tqdm\n",
    "\n",
    "my_list = ['aaa', 'bbb', 'ccc', 'ddd', 'eee']\n",
    "\n",
    "for i in tqdm(my_list):\n",
    "    time.sleep(2)\n",
    "    print(i)"
   ]
  },
  {
   "cell_type": "code",
   "execution_count": 10,
   "id": "fca0fc5c",
   "metadata": {},
   "outputs": [
    {
     "name": "stderr",
     "output_type": "stream",
     "text": [
      "  4%|█▍                                     | 386/10631 [01:10<32:27,  5.26it/s]Exception ignored in: <function tqdm.__del__ at 0x1274969e0>\n",
      "Traceback (most recent call last):\n",
      "  File \"/opt/homebrew/mambaforge/lib/python3.10/site-packages/tqdm/std.py\", line 1162, in __del__\n",
      "    self.close()\n",
      "  File \"/opt/homebrew/mambaforge/lib/python3.10/site-packages/tqdm/gui.py\", line 91, in close\n",
      "    if self.disable:\n",
      "AttributeError: 'tqdm_gui' object has no attribute 'disable'\n",
      "Exception ignored in: <function tqdm.__del__ at 0x1274969e0>\n",
      "Traceback (most recent call last):\n",
      "  File \"/opt/homebrew/mambaforge/lib/python3.10/site-packages/tqdm/std.py\", line 1162, in __del__\n",
      "    self.close()\n",
      "  File \"/opt/homebrew/mambaforge/lib/python3.10/site-packages/tqdm/gui.py\", line 91, in close\n",
      "    if self.disable:\n",
      "AttributeError: 'tqdm_gui' object has no attribute 'disable'\n",
      "100%|███████████████████████████████████| 10631/10631 [1:00:59<00:00,  2.90it/s]\n"
     ]
    },
    {
     "name": "stdout",
     "output_type": "stream",
     "text": [
      "Data extraction completed.\n"
     ]
    }
   ],
   "source": [
    "import time\n",
    "from tqdm import tqdm\n",
    "\n",
    "for file in tqdm(os.listdir(\"../data/maf_files\")): \n",
    "    if '.maf' in str(file): \n",
    "        df = pd.read_csv(\"../data/maf_files/\"+ str(file), sep='\\t',\n",
    "         skiprows=7, header=0, low_memory = False)\n",
    "        df = df[relevant_columns]\n",
    "        data = pd.concat([data, df])\n",
    "\n",
    "data = data.reset_index(drop=True) # Remove indexing column\n",
    "\n",
    "# Tumor Barcode shortening to get the sample barcode instead of the\n",
    "# aliquot barcode (first 16 characters = sample barcode)\n",
    "data['Tumor_Sample_Barcode'] = data['Tumor_Sample_Barcode'].str.slice(stop=16)\n",
    "\n",
    " # Check for the directory\n",
    "os.makedirs('../temp/', exist_ok=True)\n",
    "\n",
    "# and create .csv file in the directory\n",
    "data.to_csv('../temp/maf_data.csv', index = False)\n",
    "\n",
    "print('Data extraction completed.')"
   ]
  },
  {
   "cell_type": "code",
   "execution_count": null,
   "id": "8e6c6e40",
   "metadata": {},
   "outputs": [],
   "source": []
  },
  {
   "cell_type": "code",
   "execution_count": 2,
   "id": "6c934c41",
   "metadata": {},
   "outputs": [],
   "source": [
    "import os\n",
    "from pymongo import MongoClient\n",
    "import bycon\n",
    "import pandas as pd\n",
    "import time, base36\n",
    "\n",
    "# Prepare mongodb tools\n",
    "client = MongoClient()\n",
    "db = client.progenetix\n",
    "bs = db.biosamples"
   ]
  },
  {
   "cell_type": "code",
   "execution_count": 3,
   "id": "0e9097e8",
   "metadata": {},
   "outputs": [],
   "source": [
    "df = pd.read_csv('../temp/mappingfile.tsv', sep = '\\t')"
   ]
  },
  {
   "cell_type": "code",
   "execution_count": 16,
   "id": "ae9bc6df",
   "metadata": {},
   "outputs": [
    {
     "data": {
      "text/plain": [
       "Index(['biosample_id', 'variant_id', 'callset_id', 'chromosome', 'start',\n",
       "       'end', 'strand', 'reference_bases', 'alternate_bases', 'hgvsc',\n",
       "       'variant_classification', 'variant_type', 'hgvsp', 'hgvsp_short',\n",
       "       'aliquot_id', 'reference_id', 'case_id', 'sample_id'],\n",
       "      dtype='object')"
      ]
     },
     "execution_count": 16,
     "metadata": {},
     "output_type": "execute_result"
    }
   ],
   "source": [
    "df.keys()"
   ]
  },
  {
   "cell_type": "code",
   "execution_count": 14,
   "id": "cbebcb10",
   "metadata": {},
   "outputs": [],
   "source": [
    "dd_filtered = df.loc[df['variant_type'] == 'SNP', ['hgvsc', 'reference_bases',\n",
    "                                                   'alternate_bases', 'start', 'end']].copy()\n",
    "INS = df.loc[df['variant_type'] == 'INS', ['start', 'end', 'reference_bases', 'alternate_bases']].copy()\n",
    "# Drop rows with missing values in HGVSC\n",
    "dd_filtered.dropna(subset=['hgvsc'], inplace=True)\n",
    "\n",
    "# Extract the last character from HGVSC and assign it to a new column 'HGVSC_ref_base'\n",
    "dd_filtered['HGVSC_ref_base'] = dd_filtered['hgvsc'].str.split('>').str[0].str[-1]\n",
    "dd_filtered['HGVSC_alt_base'] = dd_filtered['hgvsc'].str.split('>').str[1]\n",
    "\n",
    "\n",
    "# Reset the index if necessary\n",
    "dd_filtered.reset_index(drop=True, inplace=True)\n",
    "\n",
    "compare = dd_filtered[['hgvsc', 'start', 'end', 'HGVSC_ref_base', 'reference_bases', 'HGVSC_alt_base', 'alternate_bases']]\n",
    "issues = compare[compare['reference_bases'] != compare['HGVSC_ref_base']]\n",
    "correct = compare[compare['reference_bases'] == compare['HGVSC_ref_base']]"
   ]
  },
  {
   "cell_type": "code",
   "execution_count": 15,
   "id": "8f5eb513",
   "metadata": {},
   "outputs": [
    {
     "data": {
      "text/html": [
       "<div>\n",
       "<style scoped>\n",
       "    .dataframe tbody tr th:only-of-type {\n",
       "        vertical-align: middle;\n",
       "    }\n",
       "\n",
       "    .dataframe tbody tr th {\n",
       "        vertical-align: top;\n",
       "    }\n",
       "\n",
       "    .dataframe thead th {\n",
       "        text-align: right;\n",
       "    }\n",
       "</style>\n",
       "<table border=\"1\" class=\"dataframe\">\n",
       "  <thead>\n",
       "    <tr style=\"text-align: right;\">\n",
       "      <th></th>\n",
       "      <th>hgvsc</th>\n",
       "      <th>start</th>\n",
       "      <th>end</th>\n",
       "      <th>HGVSC_ref_base</th>\n",
       "      <th>reference_bases</th>\n",
       "      <th>HGVSC_alt_base</th>\n",
       "      <th>alternate_bases</th>\n",
       "    </tr>\n",
       "  </thead>\n",
       "  <tbody>\n",
       "    <tr>\n",
       "      <th>1</th>\n",
       "      <td>c.103G&gt;C</td>\n",
       "      <td>226064454</td>\n",
       "      <td>226064454</td>\n",
       "      <td>G</td>\n",
       "      <td>G</td>\n",
       "      <td>C</td>\n",
       "      <td>C</td>\n",
       "    </tr>\n",
       "    <tr>\n",
       "      <th>2</th>\n",
       "      <td>c.658A&gt;T</td>\n",
       "      <td>26279162</td>\n",
       "      <td>26279162</td>\n",
       "      <td>A</td>\n",
       "      <td>A</td>\n",
       "      <td>T</td>\n",
       "      <td>T</td>\n",
       "    </tr>\n",
       "    <tr>\n",
       "      <th>3</th>\n",
       "      <td>c.1380C&gt;A</td>\n",
       "      <td>31266476</td>\n",
       "      <td>31266476</td>\n",
       "      <td>C</td>\n",
       "      <td>C</td>\n",
       "      <td>A</td>\n",
       "      <td>A</td>\n",
       "    </tr>\n",
       "    <tr>\n",
       "      <th>4</th>\n",
       "      <td>c.3484C&gt;A</td>\n",
       "      <td>98303765</td>\n",
       "      <td>98303765</td>\n",
       "      <td>C</td>\n",
       "      <td>C</td>\n",
       "      <td>A</td>\n",
       "      <td>A</td>\n",
       "    </tr>\n",
       "    <tr>\n",
       "      <th>5</th>\n",
       "      <td>c.2510T&gt;A</td>\n",
       "      <td>124764127</td>\n",
       "      <td>124764127</td>\n",
       "      <td>T</td>\n",
       "      <td>T</td>\n",
       "      <td>A</td>\n",
       "      <td>A</td>\n",
       "    </tr>\n",
       "    <tr>\n",
       "      <th>...</th>\n",
       "      <td>...</td>\n",
       "      <td>...</td>\n",
       "      <td>...</td>\n",
       "      <td>...</td>\n",
       "      <td>...</td>\n",
       "      <td>...</td>\n",
       "      <td>...</td>\n",
       "    </tr>\n",
       "    <tr>\n",
       "      <th>2424419</th>\n",
       "      <td>c.315G&gt;T</td>\n",
       "      <td>106612395</td>\n",
       "      <td>106612395</td>\n",
       "      <td>G</td>\n",
       "      <td>G</td>\n",
       "      <td>T</td>\n",
       "      <td>T</td>\n",
       "    </tr>\n",
       "    <tr>\n",
       "      <th>2424420</th>\n",
       "      <td>c.813G&gt;A</td>\n",
       "      <td>114906851</td>\n",
       "      <td>114906851</td>\n",
       "      <td>G</td>\n",
       "      <td>G</td>\n",
       "      <td>A</td>\n",
       "      <td>A</td>\n",
       "    </tr>\n",
       "    <tr>\n",
       "      <th>2424422</th>\n",
       "      <td>c.165T&gt;A</td>\n",
       "      <td>139537086</td>\n",
       "      <td>139537086</td>\n",
       "      <td>T</td>\n",
       "      <td>T</td>\n",
       "      <td>A</td>\n",
       "      <td>A</td>\n",
       "    </tr>\n",
       "    <tr>\n",
       "      <th>2424423</th>\n",
       "      <td>c.56G&gt;T</td>\n",
       "      <td>153536303</td>\n",
       "      <td>153536303</td>\n",
       "      <td>G</td>\n",
       "      <td>G</td>\n",
       "      <td>T</td>\n",
       "      <td>T</td>\n",
       "    </tr>\n",
       "    <tr>\n",
       "      <th>2424424</th>\n",
       "      <td>c.595C&gt;T</td>\n",
       "      <td>153541857</td>\n",
       "      <td>153541857</td>\n",
       "      <td>C</td>\n",
       "      <td>C</td>\n",
       "      <td>T</td>\n",
       "      <td>T</td>\n",
       "    </tr>\n",
       "  </tbody>\n",
       "</table>\n",
       "<p>1209286 rows × 7 columns</p>\n",
       "</div>"
      ],
      "text/plain": [
       "             hgvsc      start        end HGVSC_ref_base reference_bases  \\\n",
       "1         c.103G>C  226064454  226064454              G               G   \n",
       "2         c.658A>T   26279162   26279162              A               A   \n",
       "3        c.1380C>A   31266476   31266476              C               C   \n",
       "4        c.3484C>A   98303765   98303765              C               C   \n",
       "5        c.2510T>A  124764127  124764127              T               T   \n",
       "...            ...        ...        ...            ...             ...   \n",
       "2424419   c.315G>T  106612395  106612395              G               G   \n",
       "2424420   c.813G>A  114906851  114906851              G               G   \n",
       "2424422   c.165T>A  139537086  139537086              T               T   \n",
       "2424423    c.56G>T  153536303  153536303              G               G   \n",
       "2424424   c.595C>T  153541857  153541857              C               C   \n",
       "\n",
       "        HGVSC_alt_base alternate_bases  \n",
       "1                    C               C  \n",
       "2                    T               T  \n",
       "3                    A               A  \n",
       "4                    A               A  \n",
       "5                    A               A  \n",
       "...                ...             ...  \n",
       "2424419              T               T  \n",
       "2424420              A               A  \n",
       "2424422              A               A  \n",
       "2424423              T               T  \n",
       "2424424              T               T  \n",
       "\n",
       "[1209286 rows x 7 columns]"
      ]
     },
     "execution_count": 15,
     "metadata": {},
     "output_type": "execute_result"
    }
   ],
   "source": [
    "correct"
   ]
  }
 ],
 "metadata": {
  "kernelspec": {
   "display_name": "Python 3 (ipykernel)",
   "language": "python",
   "name": "python3"
  },
  "language_info": {
   "codemirror_mode": {
    "name": "ipython",
    "version": 3
   },
   "file_extension": ".py",
   "mimetype": "text/x-python",
   "name": "python",
   "nbconvert_exporter": "python",
   "pygments_lexer": "ipython3",
   "version": "3.10.9"
  }
 },
 "nbformat": 4,
 "nbformat_minor": 5
}
