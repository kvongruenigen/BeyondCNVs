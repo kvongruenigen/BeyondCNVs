{
 "cells": [
  {
   "cell_type": "code",
   "execution_count": null,
   "id": "aaf4415e",
   "metadata": {},
   "outputs": [],
   "source": [
    "# Scripts to do:\n",
    "# - Refresher\n",
    "# - Mapper"
   ]
  },
  {
   "cell_type": "code",
   "execution_count": null,
   "id": "e51011dc",
   "metadata": {},
   "outputs": [],
   "source": [
    "###############################################################################################################\n",
    "##################################### Initialisation ##########################################################\n",
    "###############################################################################################################"
   ]
  },
  {
   "cell_type": "code",
   "execution_count": 8,
   "id": "6c934c41",
   "metadata": {},
   "outputs": [],
   "source": [
    "import os\n",
    "from pymongo import MongoClient\n",
    "import bycon\n",
    "import pandas as pd\n",
    "import time, base36\n",
    "\n",
    "# Prepare mongodb tools\n",
    "client = MongoClient()\n",
    "db = client.progenetix\n",
    "bs = db.biosamples"
   ]
  },
  {
   "cell_type": "code",
   "execution_count": 9,
   "id": "cc11648d",
   "metadata": {},
   "outputs": [],
   "source": [
    "df = pd.read_csv('../temp/mappingfile.tsv', sep = '\\t')"
   ]
  },
  {
   "cell_type": "code",
   "execution_count": 10,
   "id": "a1df6d7a",
   "metadata": {
    "scrolled": true
   },
   "outputs": [
    {
     "data": {
      "text/plain": [
       "Index(['biosample_id', 'variant_id', 'callset_id', 'chromosome', 'start',\n",
       "       'end', 'strand', 'reference_bases', 'alternate_bases', 'hgvsc',\n",
       "       'variant_classification', 'variant_type', 'hgvsp', 'hgvsp_short',\n",
       "       'aliquot_id', 'reference_id', 'case_id', 'sample_id'],\n",
       "      dtype='object')"
      ]
     },
     "execution_count": 10,
     "metadata": {},
     "output_type": "execute_result"
    }
   ],
   "source": [
    "df.keys()"
   ]
  },
  {
   "cell_type": "code",
   "execution_count": 12,
   "id": "f88a65e2",
   "metadata": {},
   "outputs": [
    {
     "name": "stdout",
     "output_type": "stream",
     "text": [
      "{'SNP', 'INS', 'ONP', 'TNP', 'DEL'} {'Splice_Region', 'Nonsense_Mutation', 'RNA', 'IGR', \"3'UTR\", 'Silent', 'Frame_Shift_Del', 'In_Frame_Del', 'Intron', 'Nonstop_Mutation', 'Translation_Start_Site', 'Splice_Site', 'Missense_Mutation', \"5'UTR\", \"3'Flank\", 'Frame_Shift_Ins', \"5'Flank\", 'In_Frame_Ins'}\n"
     ]
    }
   ],
   "source": [
    "variant_types = set(df['variant_type'])\n",
    "\n",
    "classes = set(df['variant_classification'])\n",
    "\n",
    "print(variant_types, classes)"
   ]
  }
 ],
 "metadata": {
  "kernelspec": {
   "display_name": "Python 3 (ipykernel)",
   "language": "python",
   "name": "python3"
  },
  "language_info": {
   "codemirror_mode": {
    "name": "ipython",
    "version": 3
   },
   "file_extension": ".py",
   "mimetype": "text/x-python",
   "name": "python",
   "nbconvert_exporter": "python",
   "pygments_lexer": "ipython3",
   "version": "3.10.9"
  }
 },
 "nbformat": 4,
 "nbformat_minor": 5
}
