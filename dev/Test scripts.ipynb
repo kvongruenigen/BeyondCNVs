{
 "cells": [
  {
   "cell_type": "code",
   "execution_count": null,
   "id": "aaf4415e",
   "metadata": {},
   "outputs": [],
   "source": [
    "# Scripts to do:\n",
    "# - Refresher\n",
    "# - Mapper"
   ]
  },
  {
   "cell_type": "code",
   "execution_count": 1,
   "id": "16ae21ed",
   "metadata": {},
   "outputs": [],
   "source": [
    "import pandas as pd\n",
    "\n",
    "df = pd.read_csv('/Users/kayvongrunigen/switchdrive/baudisgroup/varImportTestSNVs.tsv', sep = '\\t', header = 0)\n"
   ]
  },
  {
   "cell_type": "code",
   "execution_count": 3,
   "id": "0e16102a",
   "metadata": {},
   "outputs": [],
   "source": [
    "df['snv_type'] = df['variant_class']\n",
    "# Clean up\n",
    "df = df[[\"biosample_id\", \"variant_id\", \"callset_id\", \"individual_id\",\n",
    "    \"reference_name\", \"start\", \"end\", \"reference_bases\",\n",
    "    \"alternate_bases\", \"variant_classification\", \"variant_state_id\",\n",
    "    \"specific_so\", \"aliquot_id\", \"reference_id\", \"case_id\",\n",
    "    \"sample_id\", \"snv_type\"]]\n",
    "\n",
    "df.to_csv('/Users/kayvongrunigen/switchdrive/baudisgroup/varImportTestSNVs.tsv', sep = \"\\t\", index = False)  # and create .tsv file in the directory"
   ]
  },
  {
   "cell_type": "code",
   "execution_count": null,
   "id": "a1e0f556",
   "metadata": {},
   "outputs": [],
   "source": [
    "#### Issues\n",
    "# Why do I change variant_type to variant_types\n",
    "# Why is there \\n in the case ids\n"
   ]
  },
  {
   "cell_type": "code",
   "execution_count": 124,
   "id": "c3a7604f",
   "metadata": {},
   "outputs": [
    {
     "name": "stdout",
     "output_type": "stream",
     "text": [
      "Preparation for mapping...\n",
      "Starting progenetix mapping...\n"
     ]
    },
    {
     "name": "stderr",
     "output_type": "stream",
     "text": [
      "100%|█████████████████████████████████████| 10540/10540 [51:20<00:00,  3.42it/s]\n"
     ]
    }
   ],
   "source": [
    "import pandas as pd\n",
    "from bycon_helpers import *\n",
    "from pymongo import MongoClient\n",
    "from tqdm import tqdm\n",
    "\n",
    "# Connect to MongoDB\n",
    "client = MongoClient()\n",
    "db = client.progenetix\n",
    "bs = db.biosamples\n",
    "\n",
    "# Read the data frame\n",
    "df = pd.read_csv(\"../temp/mapfile.tsv\", sep = \"\\t\",\n",
    "    header = 0, low_memory = False)\n",
    "\n",
    "print(\"Preparation for mapping...\")\n",
    "# Create legacy ids / external references\n",
    "df[\"case_id\"] = \"pgx:TCGA.\" + df[\"case_id\"]\n",
    "df[\"sample_id\"] = \"pgx:TCGA.\" + df[\"sample_id\"]\n",
    "\n",
    "# Create placeholder for variant id, gets created while import\n",
    "df[\"variant_id\"] = [\" \"] * len(df)\n",
    "\n",
    "# Naming convention from progenetix\n",
    "df[\"variant_state_id\"] = [\"SO:0001059\"] * len(df)\n",
    "df[\"variant_types\"] = df[\"variant_type\"]\n",
    "df[\"reference_name\"] = df[\"chromosome\"].str.slice(start=3)\n",
    "\n",
    "# Adding sequence ontologies - http://www.sequenceontology.org/browser/\n",
    "df.loc[df[\"variant_type\"] == \"SNP\", \"specific_so\"] = \"SO:0001483\"\n",
    "df.loc[df[\"variant_type\"] == \"TNP\", \"specific_so\"] = \"SO:0002007\"\n",
    "df.loc[df[\"variant_type\"] == \"ONP\", \"specific_so\"] = \"SO:0002007\"\n",
    "df.loc[df[\"variant_type\"] == \"DEL\", \"specific_so\"] = \"SO:0000159\"\n",
    "df.loc[df[\"variant_type\"] == \"INS\", \"specific_so\"] = \"SO:0000667\"\n",
    "\n",
    "# Convert 1-based MAF files to 0-based\n",
    "# Explanation @ https://www.biostars.org/p/84686/\n",
    "df.loc[df[\"variant_type\"].isin([\"SNP\", \"TNP\", \"ONP\", \"DEL\"]), \"start\"] -= 1\n",
    "df.loc[df[\"variant_type\"] == \"INS\", \"end\"] -= 1\n",
    "\n",
    "# Generate callset_ids per aliquot for import and map sample_id to biosample_id\n",
    "print(\"Starting progenetix mapping...\")\n",
    "\n",
    "biosample_mapping = {}\n",
    "\n",
    "for aliquot in tqdm(set(df[\"aliquot_id\"])):\n",
    "\n",
    "    sample_id = df.loc[df[\"aliquot_id\"] == aliquot, \"sample_id\"].iloc[0]\n",
    "\n",
    "    if sample_id not in biosample_mapping:\n",
    "        hit = bs.find({\"external_references.id\": {\"$regex\": sample_id},\n",
    "                        \"biosample_status.id\": \"EFO:0009656\"})\n",
    "\n",
    "        for entry in hit:\n",
    "            biosample_mapping[sample_id] = (entry[\"id\"], entry[\"individual_id\"])\n",
    "\n",
    "            break\n",
    "\n",
    "    biosample_id, individual_id = biosample_mapping.get(sample_id, (\"\", \"\"))\n",
    "\n",
    "    cs_id = generate_id(\"pgxcs\")\n",
    "\n",
    "    df.loc[df[\"aliquot_id\"] == aliquot,\n",
    "        [\"callset_id\", \"biosample_id\", \"individual_id\"]] = cs_id, biosample_id, individual_id\n",
    "\n",
    "\n",
    "# Clean up\n",
    "df = df[[\"biosample_id\", \"variant_id\", \"callset_id\", \"individual_id\",\n",
    "    \"reference_name\", \"start\", \"end\", \"reference_bases\",\n",
    "    \"alternate_bases\", \"variant_classification\", \"variant_state_id\",\n",
    "    \"specific_so\", \"hgvsc\", \"hgvsp\", \"hgvsp_short\", \"aliquot_id\",\n",
    "    \"reference_id\", \"case_id\", \"sample_id\", \"variant_types\",\n",
    "    \"all_effects\", \"transcript_id\", \"gene\", \"feature\",\n",
    "    \"feature_type\", \"hgnc_id\", \"ensp\", \"refseq\"]]"
   ]
  },
  {
   "cell_type": "code",
   "execution_count": 130,
   "id": "08670c65",
   "metadata": {},
   "outputs": [
    {
     "data": {
      "text/plain": [
       "True"
      ]
     },
     "execution_count": 130,
     "metadata": {},
     "output_type": "execute_result"
    }
   ],
   "source": [
    "len(variants_in_db) == len(df.dropna(subset=['biosample_id']))"
   ]
  },
  {
   "cell_type": "code",
   "execution_count": 125,
   "id": "4b0003f5",
   "metadata": {
    "scrolled": true
   },
   "outputs": [
    {
     "name": "stdout",
     "output_type": "stream",
     "text": [
      "Empty DataFrame\n",
      "Columns: [biosample_id, variant_id, callset_id, individual_id, reference_name, start, end, reference_bases, alternate_bases, variant_classification, variant_state_id, specific_so, hgvsc, hgvsp, hgvsp_short, aliquot_id, reference_id, case_id, sample_id, variant_types, all_effects, transcript_id, gene, feature, feature_type, hgnc_id, ensp, refseq]\n",
      "Index: []\n",
      "\n",
      "[0 rows x 28 columns]\n"
     ]
    }
   ],
   "source": [
    "variants_in_db = df.dropna(subset = [\"biosample_id\"])\n",
    "new = df[df[\"biosample_id\"].isna()]\n",
    "print(new)"
   ]
  },
  {
   "cell_type": "code",
   "execution_count": 82,
   "id": "bbef0253",
   "metadata": {
    "scrolled": true
   },
   "outputs": [],
   "source": [
    "import pandas as pd\n",
    "from pymongo import MongoClient\n",
    "from tqdm import tqdm\n",
    "\n",
    "# Connect to MongoDB\n",
    "client = MongoClient()\n",
    "db = client.progenetix\n",
    "bs = db.biosamples\n",
    "\n",
    "# Read the data frame\n",
    "df = pd.read_csv('../temp/mapfile.tsv', sep='\\t',\n",
    "    header=0, low_memory = False)\n",
    "\n",
    "\n",
    "all_effects = pd.DataFrame()\n",
    "columns = ['Symbol','Consequence','HGVSp_Short','Transcript_ID','RefSeq','HGVSc','Impact','Canonical','Sift',\n",
    "          'PolyPhen','Strand']\n",
    "for col in columns:\n",
    "    all_effects[col] = []\n",
    "\n",
    "effects = []\n",
    "for effect in df['all_effects']:\n",
    "    info = effect.split(';')\n",
    "    for eff in info:\n",
    "        effects.append(eff.split(','))\n",
    "\n",
    "for eff in effects:\n",
    "    all_effects.loc[len(all_effects)] = eff\n",
    "\n",
    "all_effects"
   ]
  },
  {
   "cell_type": "code",
   "execution_count": 2,
   "id": "6c934c41",
   "metadata": {},
   "outputs": [],
   "source": [
    "import os\n",
    "from pymongo import MongoClient\n",
    "import bycon\n",
    "import pandas as pd\n",
    "import time, base36\n",
    "\n",
    "# Prepare mongodb tools\n",
    "client = MongoClient()\n",
    "db = client.progenetix\n",
    "bs = db.biosamples"
   ]
  },
  {
   "cell_type": "code",
   "execution_count": 3,
   "id": "0e9097e8",
   "metadata": {},
   "outputs": [],
   "source": [
    "df = pd.read_csv('../temp/mappingfile.tsv', sep = '\\t')"
   ]
  },
  {
   "cell_type": "code",
   "execution_count": 16,
   "id": "ae9bc6df",
   "metadata": {},
   "outputs": [
    {
     "data": {
      "text/plain": [
       "Index(['biosample_id', 'variant_id', 'callset_id', 'chromosome', 'start',\n",
       "       'end', 'strand', 'reference_bases', 'alternate_bases', 'hgvsc',\n",
       "       'variant_classification', 'variant_type', 'hgvsp', 'hgvsp_short',\n",
       "       'aliquot_id', 'reference_id', 'case_id', 'sample_id'],\n",
       "      dtype='object')"
      ]
     },
     "execution_count": 16,
     "metadata": {},
     "output_type": "execute_result"
    }
   ],
   "source": [
    "df.keys()"
   ]
  },
  {
   "cell_type": "code",
   "execution_count": 14,
   "id": "cbebcb10",
   "metadata": {},
   "outputs": [],
   "source": [
    "dd_filtered = df.loc[df['variant_type'] == 'SNP', ['hgvsc', 'reference_bases',\n",
    "                                                   'alternate_bases', 'start', 'end']].copy()\n",
    "INS = df.loc[df['variant_type'] == 'INS', ['start', 'end', 'reference_bases', 'alternate_bases']].copy()\n",
    "# Drop rows with missing values in HGVSC\n",
    "dd_filtered.dropna(subset=['hgvsc'], inplace=True)\n",
    "\n",
    "# Extract the last character from HGVSC and assign it to a new column 'HGVSC_ref_base'\n",
    "dd_filtered['HGVSC_ref_base'] = dd_filtered['hgvsc'].str.split('>').str[0].str[-1]\n",
    "dd_filtered['HGVSC_alt_base'] = dd_filtered['hgvsc'].str.split('>').str[1]\n",
    "\n",
    "\n",
    "# Reset the index if necessary\n",
    "dd_filtered.reset_index(drop=True, inplace=True)\n",
    "\n",
    "compare = dd_filtered[['hgvsc', 'start', 'end', 'HGVSC_ref_base', 'reference_bases', 'HGVSC_alt_base', 'alternate_bases']]\n",
    "issues = compare[compare['reference_bases'] != compare['HGVSC_ref_base']]\n",
    "correct = compare[compare['reference_bases'] == compare['HGVSC_ref_base']]"
   ]
  },
  {
   "cell_type": "code",
   "execution_count": 15,
   "id": "8f5eb513",
   "metadata": {},
   "outputs": [
    {
     "data": {
      "text/html": [
       "<div>\n",
       "<style scoped>\n",
       "    .dataframe tbody tr th:only-of-type {\n",
       "        vertical-align: middle;\n",
       "    }\n",
       "\n",
       "    .dataframe tbody tr th {\n",
       "        vertical-align: top;\n",
       "    }\n",
       "\n",
       "    .dataframe thead th {\n",
       "        text-align: right;\n",
       "    }\n",
       "</style>\n",
       "<table border=\"1\" class=\"dataframe\">\n",
       "  <thead>\n",
       "    <tr style=\"text-align: right;\">\n",
       "      <th></th>\n",
       "      <th>hgvsc</th>\n",
       "      <th>start</th>\n",
       "      <th>end</th>\n",
       "      <th>HGVSC_ref_base</th>\n",
       "      <th>reference_bases</th>\n",
       "      <th>HGVSC_alt_base</th>\n",
       "      <th>alternate_bases</th>\n",
       "    </tr>\n",
       "  </thead>\n",
       "  <tbody>\n",
       "    <tr>\n",
       "      <th>1</th>\n",
       "      <td>c.103G&gt;C</td>\n",
       "      <td>226064454</td>\n",
       "      <td>226064454</td>\n",
       "      <td>G</td>\n",
       "      <td>G</td>\n",
       "      <td>C</td>\n",
       "      <td>C</td>\n",
       "    </tr>\n",
       "    <tr>\n",
       "      <th>2</th>\n",
       "      <td>c.658A&gt;T</td>\n",
       "      <td>26279162</td>\n",
       "      <td>26279162</td>\n",
       "      <td>A</td>\n",
       "      <td>A</td>\n",
       "      <td>T</td>\n",
       "      <td>T</td>\n",
       "    </tr>\n",
       "    <tr>\n",
       "      <th>3</th>\n",
       "      <td>c.1380C&gt;A</td>\n",
       "      <td>31266476</td>\n",
       "      <td>31266476</td>\n",
       "      <td>C</td>\n",
       "      <td>C</td>\n",
       "      <td>A</td>\n",
       "      <td>A</td>\n",
       "    </tr>\n",
       "    <tr>\n",
       "      <th>4</th>\n",
       "      <td>c.3484C&gt;A</td>\n",
       "      <td>98303765</td>\n",
       "      <td>98303765</td>\n",
       "      <td>C</td>\n",
       "      <td>C</td>\n",
       "      <td>A</td>\n",
       "      <td>A</td>\n",
       "    </tr>\n",
       "    <tr>\n",
       "      <th>5</th>\n",
       "      <td>c.2510T&gt;A</td>\n",
       "      <td>124764127</td>\n",
       "      <td>124764127</td>\n",
       "      <td>T</td>\n",
       "      <td>T</td>\n",
       "      <td>A</td>\n",
       "      <td>A</td>\n",
       "    </tr>\n",
       "    <tr>\n",
       "      <th>...</th>\n",
       "      <td>...</td>\n",
       "      <td>...</td>\n",
       "      <td>...</td>\n",
       "      <td>...</td>\n",
       "      <td>...</td>\n",
       "      <td>...</td>\n",
       "      <td>...</td>\n",
       "    </tr>\n",
       "    <tr>\n",
       "      <th>2424419</th>\n",
       "      <td>c.315G&gt;T</td>\n",
       "      <td>106612395</td>\n",
       "      <td>106612395</td>\n",
       "      <td>G</td>\n",
       "      <td>G</td>\n",
       "      <td>T</td>\n",
       "      <td>T</td>\n",
       "    </tr>\n",
       "    <tr>\n",
       "      <th>2424420</th>\n",
       "      <td>c.813G&gt;A</td>\n",
       "      <td>114906851</td>\n",
       "      <td>114906851</td>\n",
       "      <td>G</td>\n",
       "      <td>G</td>\n",
       "      <td>A</td>\n",
       "      <td>A</td>\n",
       "    </tr>\n",
       "    <tr>\n",
       "      <th>2424422</th>\n",
       "      <td>c.165T&gt;A</td>\n",
       "      <td>139537086</td>\n",
       "      <td>139537086</td>\n",
       "      <td>T</td>\n",
       "      <td>T</td>\n",
       "      <td>A</td>\n",
       "      <td>A</td>\n",
       "    </tr>\n",
       "    <tr>\n",
       "      <th>2424423</th>\n",
       "      <td>c.56G&gt;T</td>\n",
       "      <td>153536303</td>\n",
       "      <td>153536303</td>\n",
       "      <td>G</td>\n",
       "      <td>G</td>\n",
       "      <td>T</td>\n",
       "      <td>T</td>\n",
       "    </tr>\n",
       "    <tr>\n",
       "      <th>2424424</th>\n",
       "      <td>c.595C&gt;T</td>\n",
       "      <td>153541857</td>\n",
       "      <td>153541857</td>\n",
       "      <td>C</td>\n",
       "      <td>C</td>\n",
       "      <td>T</td>\n",
       "      <td>T</td>\n",
       "    </tr>\n",
       "  </tbody>\n",
       "</table>\n",
       "<p>1209286 rows × 7 columns</p>\n",
       "</div>"
      ],
      "text/plain": [
       "             hgvsc      start        end HGVSC_ref_base reference_bases  \\\n",
       "1         c.103G>C  226064454  226064454              G               G   \n",
       "2         c.658A>T   26279162   26279162              A               A   \n",
       "3        c.1380C>A   31266476   31266476              C               C   \n",
       "4        c.3484C>A   98303765   98303765              C               C   \n",
       "5        c.2510T>A  124764127  124764127              T               T   \n",
       "...            ...        ...        ...            ...             ...   \n",
       "2424419   c.315G>T  106612395  106612395              G               G   \n",
       "2424420   c.813G>A  114906851  114906851              G               G   \n",
       "2424422   c.165T>A  139537086  139537086              T               T   \n",
       "2424423    c.56G>T  153536303  153536303              G               G   \n",
       "2424424   c.595C>T  153541857  153541857              C               C   \n",
       "\n",
       "        HGVSC_alt_base alternate_bases  \n",
       "1                    C               C  \n",
       "2                    T               T  \n",
       "3                    A               A  \n",
       "4                    A               A  \n",
       "5                    A               A  \n",
       "...                ...             ...  \n",
       "2424419              T               T  \n",
       "2424420              A               A  \n",
       "2424422              A               A  \n",
       "2424423              T               T  \n",
       "2424424              T               T  \n",
       "\n",
       "[1209286 rows x 7 columns]"
      ]
     },
     "execution_count": 15,
     "metadata": {},
     "output_type": "execute_result"
    }
   ],
   "source": [
    "correct"
   ]
  },
  {
   "cell_type": "code",
   "execution_count": 21,
   "id": "eed1fe85",
   "metadata": {},
   "outputs": [
    {
     "ename": "ValueError",
     "evalue": "Can only compare identically-labeled DataFrame objects",
     "output_type": "error",
     "traceback": [
      "\u001b[0;31m---------------------------------------------------------------------------\u001b[0m",
      "\u001b[0;31mValueError\u001b[0m                                Traceback (most recent call last)",
      "Cell \u001b[0;32mIn[21], line 2\u001b[0m\n\u001b[1;32m      1\u001b[0m \u001b[39mfor\u001b[39;00m df \u001b[39min\u001b[39;00m df_list:\n\u001b[0;32m----> 2\u001b[0m     diff \u001b[39m=\u001b[39m existing_data\u001b[39m.\u001b[39;49mcompare(df, align_axis\u001b[39m=\u001b[39;49m\u001b[39m0\u001b[39;49m)\n\u001b[1;32m      4\u001b[0m diff[\u001b[39m0\u001b[39m]\n",
      "File \u001b[0;32m/opt/homebrew/mambaforge/lib/python3.10/site-packages/pandas/core/frame.py:7850\u001b[0m, in \u001b[0;36mDataFrame.compare\u001b[0;34m(self, other, align_axis, keep_shape, keep_equal, result_names)\u001b[0m\n\u001b[1;32m   7728\u001b[0m \u001b[39m@doc\u001b[39m(\n\u001b[1;32m   7729\u001b[0m     _shared_docs[\u001b[39m\"\u001b[39m\u001b[39mcompare\u001b[39m\u001b[39m\"\u001b[39m],\n\u001b[1;32m   7730\u001b[0m \u001b[39m    \u001b[39m\u001b[39m\"\"\"\u001b[39;00m\n\u001b[0;32m   (...)\u001b[0m\n\u001b[1;32m   7848\u001b[0m     result_names: Suffixes \u001b[39m=\u001b[39m (\u001b[39m\"\u001b[39m\u001b[39mself\u001b[39m\u001b[39m\"\u001b[39m, \u001b[39m\"\u001b[39m\u001b[39mother\u001b[39m\u001b[39m\"\u001b[39m),\n\u001b[1;32m   7849\u001b[0m ) \u001b[39m-\u001b[39m\u001b[39m>\u001b[39m DataFrame:\n\u001b[0;32m-> 7850\u001b[0m     \u001b[39mreturn\u001b[39;00m \u001b[39msuper\u001b[39;49m()\u001b[39m.\u001b[39;49mcompare(\n\u001b[1;32m   7851\u001b[0m         other\u001b[39m=\u001b[39;49mother,\n\u001b[1;32m   7852\u001b[0m         align_axis\u001b[39m=\u001b[39;49malign_axis,\n\u001b[1;32m   7853\u001b[0m         keep_shape\u001b[39m=\u001b[39;49mkeep_shape,\n\u001b[1;32m   7854\u001b[0m         keep_equal\u001b[39m=\u001b[39;49mkeep_equal,\n\u001b[1;32m   7855\u001b[0m         result_names\u001b[39m=\u001b[39;49mresult_names,\n\u001b[1;32m   7856\u001b[0m     )\n",
      "File \u001b[0;32m/opt/homebrew/mambaforge/lib/python3.10/site-packages/pandas/core/generic.py:9216\u001b[0m, in \u001b[0;36mNDFrame.compare\u001b[0;34m(self, other, align_axis, keep_shape, keep_equal, result_names)\u001b[0m\n\u001b[1;32m   9211\u001b[0m     cls_self, cls_other \u001b[39m=\u001b[39m \u001b[39mtype\u001b[39m(\u001b[39mself\u001b[39m)\u001b[39m.\u001b[39m\u001b[39m__name__\u001b[39m, \u001b[39mtype\u001b[39m(other)\u001b[39m.\u001b[39m\u001b[39m__name__\u001b[39m\n\u001b[1;32m   9212\u001b[0m     \u001b[39mraise\u001b[39;00m \u001b[39mTypeError\u001b[39;00m(\n\u001b[1;32m   9213\u001b[0m         \u001b[39mf\u001b[39m\u001b[39m\"\u001b[39m\u001b[39mcan only compare \u001b[39m\u001b[39m'\u001b[39m\u001b[39m{\u001b[39;00mcls_self\u001b[39m}\u001b[39;00m\u001b[39m'\u001b[39m\u001b[39m (not \u001b[39m\u001b[39m'\u001b[39m\u001b[39m{\u001b[39;00mcls_other\u001b[39m}\u001b[39;00m\u001b[39m'\u001b[39m\u001b[39m) with \u001b[39m\u001b[39m'\u001b[39m\u001b[39m{\u001b[39;00mcls_self\u001b[39m}\u001b[39;00m\u001b[39m'\u001b[39m\u001b[39m\"\u001b[39m\n\u001b[1;32m   9214\u001b[0m     )\n\u001b[0;32m-> 9216\u001b[0m mask \u001b[39m=\u001b[39m \u001b[39m~\u001b[39m((\u001b[39mself\u001b[39;49m \u001b[39m==\u001b[39;49m other) \u001b[39m|\u001b[39m (\u001b[39mself\u001b[39m\u001b[39m.\u001b[39misna() \u001b[39m&\u001b[39m other\u001b[39m.\u001b[39misna()))\n\u001b[1;32m   9218\u001b[0m \u001b[39mif\u001b[39;00m \u001b[39mnot\u001b[39;00m keep_equal:\n\u001b[1;32m   9219\u001b[0m     \u001b[39mself\u001b[39m \u001b[39m=\u001b[39m \u001b[39mself\u001b[39m\u001b[39m.\u001b[39mwhere(mask)\n",
      "File \u001b[0;32m/opt/homebrew/mambaforge/lib/python3.10/site-packages/pandas/core/ops/common.py:72\u001b[0m, in \u001b[0;36m_unpack_zerodim_and_defer.<locals>.new_method\u001b[0;34m(self, other)\u001b[0m\n\u001b[1;32m     68\u001b[0m             \u001b[39mreturn\u001b[39;00m \u001b[39mNotImplemented\u001b[39m\n\u001b[1;32m     70\u001b[0m other \u001b[39m=\u001b[39m item_from_zerodim(other)\n\u001b[0;32m---> 72\u001b[0m \u001b[39mreturn\u001b[39;00m method(\u001b[39mself\u001b[39;49m, other)\n",
      "File \u001b[0;32m/opt/homebrew/mambaforge/lib/python3.10/site-packages/pandas/core/arraylike.py:42\u001b[0m, in \u001b[0;36mOpsMixin.__eq__\u001b[0;34m(self, other)\u001b[0m\n\u001b[1;32m     40\u001b[0m \u001b[39m@unpack_zerodim_and_defer\u001b[39m(\u001b[39m\"\u001b[39m\u001b[39m__eq__\u001b[39m\u001b[39m\"\u001b[39m)\n\u001b[1;32m     41\u001b[0m \u001b[39mdef\u001b[39;00m \u001b[39m__eq__\u001b[39m(\u001b[39mself\u001b[39m, other):\n\u001b[0;32m---> 42\u001b[0m     \u001b[39mreturn\u001b[39;00m \u001b[39mself\u001b[39;49m\u001b[39m.\u001b[39;49m_cmp_method(other, operator\u001b[39m.\u001b[39;49meq)\n",
      "File \u001b[0;32m/opt/homebrew/mambaforge/lib/python3.10/site-packages/pandas/core/frame.py:7579\u001b[0m, in \u001b[0;36mDataFrame._cmp_method\u001b[0;34m(self, other, op)\u001b[0m\n\u001b[1;32m   7576\u001b[0m \u001b[39mdef\u001b[39;00m \u001b[39m_cmp_method\u001b[39m(\u001b[39mself\u001b[39m, other, op):\n\u001b[1;32m   7577\u001b[0m     axis \u001b[39m=\u001b[39m \u001b[39m1\u001b[39m  \u001b[39m# only relevant for Series other case\u001b[39;00m\n\u001b[0;32m-> 7579\u001b[0m     \u001b[39mself\u001b[39m, other \u001b[39m=\u001b[39m ops\u001b[39m.\u001b[39;49malign_method_FRAME(\u001b[39mself\u001b[39;49m, other, axis, flex\u001b[39m=\u001b[39;49m\u001b[39mFalse\u001b[39;49;00m, level\u001b[39m=\u001b[39;49m\u001b[39mNone\u001b[39;49;00m)\n\u001b[1;32m   7581\u001b[0m     \u001b[39m# See GH#4537 for discussion of scalar op behavior\u001b[39;00m\n\u001b[1;32m   7582\u001b[0m     new_data \u001b[39m=\u001b[39m \u001b[39mself\u001b[39m\u001b[39m.\u001b[39m_dispatch_frame_op(other, op, axis\u001b[39m=\u001b[39maxis)\n",
      "File \u001b[0;32m/opt/homebrew/mambaforge/lib/python3.10/site-packages/pandas/core/ops/__init__.py:289\u001b[0m, in \u001b[0;36malign_method_FRAME\u001b[0;34m(left, right, axis, flex, level)\u001b[0m\n\u001b[1;32m    287\u001b[0m             left, right \u001b[39m=\u001b[39m left\u001b[39m.\u001b[39malign(right, join\u001b[39m=\u001b[39m\u001b[39m\"\u001b[39m\u001b[39mouter\u001b[39m\u001b[39m\"\u001b[39m, level\u001b[39m=\u001b[39mlevel, copy\u001b[39m=\u001b[39m\u001b[39mFalse\u001b[39;00m)\n\u001b[1;32m    288\u001b[0m         \u001b[39melse\u001b[39;00m:\n\u001b[0;32m--> 289\u001b[0m             \u001b[39mraise\u001b[39;00m \u001b[39mValueError\u001b[39;00m(\n\u001b[1;32m    290\u001b[0m                 \u001b[39m\"\u001b[39m\u001b[39mCan only compare identically-labeled DataFrame objects\u001b[39m\u001b[39m\"\u001b[39m\n\u001b[1;32m    291\u001b[0m             )\n\u001b[1;32m    292\u001b[0m \u001b[39melif\u001b[39;00m \u001b[39misinstance\u001b[39m(right, ABCSeries):\n\u001b[1;32m    293\u001b[0m     \u001b[39m# axis=1 is default for DataFrame-with-Series op\u001b[39;00m\n\u001b[1;32m    294\u001b[0m     axis \u001b[39m=\u001b[39m left\u001b[39m.\u001b[39m_get_axis_number(axis) \u001b[39mif\u001b[39;00m axis \u001b[39mis\u001b[39;00m \u001b[39mnot\u001b[39;00m \u001b[39mNone\u001b[39;00m \u001b[39melse\u001b[39;00m \u001b[39m1\u001b[39m\n",
      "\u001b[0;31mValueError\u001b[0m: Can only compare identically-labeled DataFrame objects"
     ]
    }
   ],
   "source": [
    "for df in df_list:\n",
    "    diff = existing_data.compare(df, align_axis=0)\n",
    "\n",
    "diff[0]"
   ]
  }
 ],
 "metadata": {
  "kernelspec": {
   "display_name": "Python 3 (ipykernel)",
   "language": "python",
   "name": "python3"
  },
  "language_info": {
   "codemirror_mode": {
    "name": "ipython",
    "version": 3
   },
   "file_extension": ".py",
   "mimetype": "text/x-python",
   "name": "python",
   "nbconvert_exporter": "python",
   "pygments_lexer": "ipython3",
   "version": "3.10.9"
  }
 },
 "nbformat": 4,
 "nbformat_minor": 5
}
