{
 "cells": [
  {
   "cell_type": "code",
   "execution_count": 1,
   "id": "777dca2f",
   "metadata": {},
   "outputs": [],
   "source": [
    "###############################################################################################################\n",
    "##################################### COSMIC #############################################################\n",
    "###############################################################################################################\n",
    "\n",
    "import pandas as pd\n",
    "from pymongo import MongoClient\n",
    "import pprint\n",
    "import json\n",
    "\n",
    "# Connect to MongoDB\n",
    "client = MongoClient()\n",
    "db = client.progenetix\n",
    "bs = db.biosamples\n",
    "\n",
    "## Problems\n",
    "# mutant_export_consensus = pd.read_csv('/Users/kayvongrunigen/Downloads/CosmicMutantExportCensus.tsv', sep = '\\t', low_memory = False)\n",
    "# mutant_export = pd.read_csv('/Users/kayvongrunigen/Downloads/CosmicMutantExport.tsv', sep = '\\t', low_memory = False)\n",
    "# complete_target_screens = pd.read_csv('/Users/kayvongrunigen/Downloads/CosmicCompleteTargetedScreensMutantExport.tsv', sep = '\\t', low_memory = False)\n",
    "\n",
    "# Load data frames\n",
    "resistance_mutations = pd.read_csv('/Users/kayvongrunigen/Downloads/CosmicResistanceMutations.tsv', sep = '\\t', low_memory = False)\n",
    "ncv = pd.read_csv('/Users/kayvongrunigen/Downloads/CosmicNCV.tsv', sep = '\\t', low_memory = False)\n",
    "genome_screens = pd.read_csv('/Users/kayvongrunigen/Downloads/CosmicGenomeScreensMutantExport.tsv', sep = '\\t', low_memory = False)\n",
    "fusion_export = pd.read_csv('/Users/kayvongrunigen/Downloads/CosmicFusionExport.tsv', sep = '\\t', low_memory = False)\n",
    "breakpoints_export = pd.read_csv('/Users/kayvongrunigen/Downloads/CosmicBreakpointsExport.tsv', sep = '\\t', low_memory = False)\n",
    "struct_export = pd.read_csv('/Users/kayvongrunigen/Downloads/CosmicStructExport.tsv', sep = '\\t', low_memory = False)\n",
    "\n",
    "# Select Pubmed IDs\n",
    "resistance_mutations = resistance_mutations['Pubmed Id']\n",
    "ncv = ncv['PUBMED_PMID']\n",
    "genome_screens = genome_screens['Pubmed_PMID']\n",
    "fusion_export = fusion_export['PUBMED_PMID']\n",
    "breakpoints_export = breakpoints_export['Pubmed_PMID']\n",
    "struct_export = struct_export['PUBMED_PMID']\n",
    "\n",
    "cosmic = [resistance_mutations, ncv, genome_screens,\n",
    "          fusion_export, breakpoints_export, struct_export]\n",
    "\n",
    "pmed_list = []\n",
    "\n",
    "for i in cosmic:\n",
    "    for j in i:\n",
    "        pmed_list.append(j)\n",
    "        \n",
    "pmeds = [int(x) for x in pmed_list if str(x) != 'nan']\n",
    "pmeds = set(pmeds)\n",
    "\n",
    "db_matches = []\n",
    "for ids in pmeds:\n",
    "    hits = db.biosamples.find({\"external_references.id\":{'$regex': str(ids)},\"biosample_status.id\":\"EFO:0009656\"})\n",
    "    for entry in hits:\n",
    "        db_matches.append(entry)\n",
    "        \n",
    "ex_ref = []\n",
    "\n",
    "for i in db_matches:\n",
    "    ex_ref.append(i['external_references'])\n",
    "\n",
    "pm = []\n",
    "for i in ex_ref:\n",
    "    for j in i:\n",
    "        if 'PMID' in j['id'] and j not in pm:\n",
    "            pm.append(j)\n",
    "            \n",
    "#pprint.pprint(pm)\n",
    "\n",
    "with open(f\"../temp/cosmic_pubmed_ids.json\", mode=\"w\") as f:\n",
    "    f.write(json.dumps(pm))"
   ]
  },
  {
   "cell_type": "code",
   "execution_count": 2,
   "id": "8df8af64",
   "metadata": {
    "scrolled": false
   },
   "outputs": [
    {
     "name": "stdout",
     "output_type": "stream",
     "text": [
      "98 9410 0.010414452709883103\n"
     ]
    }
   ],
   "source": [
    "print(len(pm), len(pmeds), len(pm)/len(pmeds))\n",
    "# 98 9410 0.010414452709883103"
   ]
  }
 ],
 "metadata": {
  "kernelspec": {
   "display_name": "Python 3 (ipykernel)",
   "language": "python",
   "name": "python3"
  },
  "language_info": {
   "codemirror_mode": {
    "name": "ipython",
    "version": 3
   },
   "file_extension": ".py",
   "mimetype": "text/x-python",
   "name": "python",
   "nbconvert_exporter": "python",
   "pygments_lexer": "ipython3",
   "version": "3.10.9"
  }
 },
 "nbformat": 4,
 "nbformat_minor": 5
}
