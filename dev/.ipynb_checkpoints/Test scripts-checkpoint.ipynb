{
 "cells": [
  {
   "cell_type": "code",
   "execution_count": null,
   "id": "aaf4415e",
   "metadata": {},
   "outputs": [],
   "source": [
    "# Scripts to do:\n",
    "# - Refresher\n",
    "# - Mapper"
   ]
  },
  {
   "cell_type": "code",
   "execution_count": null,
   "id": "e51011dc",
   "metadata": {},
   "outputs": [],
   "source": [
    "###############################################################################################################\n",
    "##################################### Initialisation ##########################################################\n",
    "###############################################################################################################"
   ]
  },
  {
   "cell_type": "code",
   "execution_count": 235,
   "id": "6c934c41",
   "metadata": {},
   "outputs": [],
   "source": [
    "import os\n",
    "from pymongo import MongoClient\n",
    "import bycon\n",
    "import pandas as pd\n",
    "import time, base36\n",
    "\n",
    "# Prepare mongodb tools\n",
    "client = MongoClient()\n",
    "db = client.progenetix\n",
    "bs = db.biosamples"
   ]
  }
 ],
 "metadata": {
  "kernelspec": {
   "display_name": "Python 3 (ipykernel)",
   "language": "python",
   "name": "python3"
  },
  "language_info": {
   "codemirror_mode": {
    "name": "ipython",
    "version": 3
   },
   "file_extension": ".py",
   "mimetype": "text/x-python",
   "name": "python",
   "nbconvert_exporter": "python",
   "pygments_lexer": "ipython3",
   "version": "3.10.9"
  }
 },
 "nbformat": 4,
 "nbformat_minor": 5
}
