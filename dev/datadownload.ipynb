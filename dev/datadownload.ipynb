{
 "cells": [
  {
   "cell_type": "code",
   "execution_count": 97,
   "id": "23502f0b",
   "metadata": {
    "scrolled": true
   },
   "outputs": [
    {
     "name": "stdout",
     "output_type": "stream",
     "text": [
      "{\n",
      "  \"data\": {\n",
      "    \"hits\": [\n",
      "      {\n",
      "        \"id\": \"edc62c30-cacc-457d-96ba-d05ed35432a3\", \n",
      "        \"case_id\": \"edc62c30-cacc-457d-96ba-d05ed35432a3\", \n",
      "        \"submitter_id\": \"TCGA-OR-A5K0\", \n",
      "        \"samples\": [\n",
      "          {\n",
      "            \"sample_id\": \"1e6b9fc4-3fed-4d32-89b8-aa15fb4a5840\", \n",
      "            \"sample_type\": \"Primary Tumor\", \n",
      "            \"tumor_code\": null\n",
      "          }, \n",
      "          {\n",
      "            \"sample_id\": \"37448d7e-eb2a-4f9e-9954-1f1597f45469\", \n",
      "            \"sample_type\": \"Primary Tumor\"\n",
      "          }, \n",
      "          {\n",
      "            \"sample_id\": \"ebab4f9f-0abf-4cf4-9a6d-bcc303e5ce43\", \n",
      "            \"sample_type\": \"Blood Derived Normal\", \n",
      "            \"tumor_code\": null\n",
      "          }\n",
      "        ]\n",
      "      }\n",
      "    ], \n",
      "    \"pagination\": {\n",
      "      \"count\": 1, \n",
      "      \"total\": 1, \n",
      "      \"size\": 100, \n",
      "      \"from\": 0, \n",
      "      \"sort\": \"\", \n",
      "      \"page\": 1, \n",
      "      \"pages\": 1\n",
      "    }\n",
      "  }, \n",
      "  \"warnings\": {}\n",
      "}\n"
     ]
    }
   ],
   "source": [
    "import requests\n",
    "import json\n",
    "import re\n",
    "import os\n",
    "import pandas as pd\n",
    "\n",
    "df = pd.read_csv('../temp/intermediate_mapping_file.csv') ###### Make input later\n",
    "\n",
    "cases_endpt = \"https://api.gdc.cancer.gov/cases\"\n",
    "\n",
    "# This set of filters is nested under an 'and' operator.\n",
    "# Filtering for TCGA Masked Somatic Mutation - results in open access maf files.\n",
    "filters = {\n",
    "    \"op\": \"and\",\n",
    "    \"content\": [\n",
    "        {\n",
    "            \"op\": \"in\",\n",
    "            \"content\": {\n",
    "                \"field\": \"aliquot_ids\",\n",
    "                \"value\": \"d7593b2a-0d86-44aa-a404-7fd1b10f65d4\" # random from df \n",
    "            }\n",
    "        }\n",
    "    ]\n",
    "}\n",
    "# Here a GET is used, so the filter parameters should be passed as a JSON string.\n",
    "fields = {\n",
    "    \"submitter_id\",\n",
    "    \"case_id\",\n",
    "    \"samples.sample_id\",\n",
    "    \"samples.sample_type\"\n",
    "}\n",
    "fields = \",\".join(fields)\n",
    "\n",
    "params = {\n",
    "    \"filters\": json.dumps(filters),\n",
    "    \"fields\": fields,\n",
    "    \"format\": \"JSON\",\n",
    "    \"size\": \"100\",\n",
    "    \"pretty\": \"true\"\n",
    "}\n",
    "\n",
    "response = requests.get(cases_endpt, params=params)\n",
    "r = response.content.decode(\"utf-8\")\n",
    "print(r)"
   ]
  },
  {
   "cell_type": "code",
   "execution_count": 72,
   "id": "0a009fe8",
   "metadata": {},
   "outputs": [
    {
     "name": "stdout",
     "output_type": "stream",
     "text": [
      "d7593b2a-0d86-44aa-a404-7fd1b10f65d4\n"
     ]
    }
   ],
   "source": [
    "print(df[\"Tumor_Sample_UUID\"][1])"
   ]
  },
  {
   "cell_type": "code",
   "execution_count": 83,
   "id": "637059e7",
   "metadata": {},
   "outputs": [
    {
     "ename": "KeyError",
     "evalue": "'data'",
     "output_type": "error",
     "traceback": [
      "\u001B[0;31m---------------------------------------------------------------------------\u001B[0m",
      "\u001B[0;31mKeyError\u001B[0m                                  Traceback (most recent call last)",
      "Cell \u001B[0;32mIn[83], line 20\u001B[0m\n\u001B[1;32m     17\u001B[0m     \u001B[38;5;66;03m# If no tumor sample UUID was found, return None\u001B[39;00m\n\u001B[1;32m     18\u001B[0m     \u001B[38;5;28;01mreturn\u001B[39;00m \u001B[38;5;28;01mNone\u001B[39;00m\n\u001B[0;32m---> 20\u001B[0m \u001B[43mget_tumor_sample_uuid\u001B[49m\u001B[43m(\u001B[49m\u001B[38;5;124;43m\"\u001B[39;49m\u001B[38;5;124;43md7593b2a-0d86-44aa-a404-7fd1b10f65d4\u001B[39;49m\u001B[38;5;124;43m\"\u001B[39;49m\u001B[43m)\u001B[49m\n",
      "Cell \u001B[0;32mIn[83], line 12\u001B[0m, in \u001B[0;36mget_tumor_sample_uuid\u001B[0;34m(aliquot_uuid)\u001B[0m\n\u001B[1;32m      9\u001B[0m json_response \u001B[38;5;241m=\u001B[39m response\u001B[38;5;241m.\u001B[39mjson()\n\u001B[1;32m     11\u001B[0m \u001B[38;5;66;03m# Extract the tumor sample UUID from the metadata\u001B[39;00m\n\u001B[0;32m---> 12\u001B[0m metadata \u001B[38;5;241m=\u001B[39m \u001B[43mjson_response\u001B[49m\u001B[43m[\u001B[49m\u001B[38;5;124;43m\"\u001B[39;49m\u001B[38;5;124;43mdata\u001B[39;49m\u001B[38;5;124;43m\"\u001B[39;49m\u001B[43m]\u001B[49m[\u001B[38;5;124m\"\u001B[39m\u001B[38;5;124mmetadata\u001B[39m\u001B[38;5;124m\"\u001B[39m]\n\u001B[1;32m     13\u001B[0m \u001B[38;5;28;01mfor\u001B[39;00m item \u001B[38;5;129;01min\u001B[39;00m metadata:\n\u001B[1;32m     14\u001B[0m     \u001B[38;5;28;01mif\u001B[39;00m item[\u001B[38;5;124m\"\u001B[39m\u001B[38;5;124mdata_type\u001B[39m\u001B[38;5;124m\"\u001B[39m] \u001B[38;5;241m==\u001B[39m \u001B[38;5;124m\"\u001B[39m\u001B[38;5;124mAligned Reads\u001B[39m\u001B[38;5;124m\"\u001B[39m:\n",
      "\u001B[0;31mKeyError\u001B[0m: 'data'"
     ]
    }
   ],
   "source": []
  }
 ],
 "metadata": {
  "kernelspec": {
   "display_name": "Python 3 (ipykernel)",
   "language": "python",
   "name": "python3"
  },
  "language_info": {
   "codemirror_mode": {
    "name": "ipython",
    "version": 3
   },
   "file_extension": ".py",
   "mimetype": "text/x-python",
   "name": "python",
   "nbconvert_exporter": "python",
   "pygments_lexer": "ipython3",
   "version": "3.10.9"
  }
 },
 "nbformat": 4,
 "nbformat_minor": 5
}
