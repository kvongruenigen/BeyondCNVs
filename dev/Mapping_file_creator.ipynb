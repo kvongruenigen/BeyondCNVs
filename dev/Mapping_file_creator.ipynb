{
 "cells": [
  {
   "cell_type": "code",
   "execution_count": 2,
   "id": "96a99d7d",
   "metadata": {},
   "outputs": [],
   "source": [
    "###############################################################################################################\n",
    "## Intermediate file for identifiers and variant information -- Working\n",
    "# Module import\n",
    "\n",
    "import pandas as pd\n",
    "import os\n",
    "\n",
    "\n",
    "# Preparation\n",
    "\n",
    "relevant = ['Tumor_Sample_UUID','Matched_Norm_Sample_UUID','case_id', 'NCBI_Build','Chromosome',\n",
    "          'Start_Position','End_Position','Strand', 'Variant_Classification', 'Variant_Type',\n",
    "          'Reference_Allele', 'Tumor_Seq_Allele1', 'Tumor_Seq_Allele2', 'HGVSc', 'HGVSp',\n",
    "          'HGVSp_Short', 'all_effects'] # combined identifiers and variant information\n",
    "\n",
    "imf = pd.DataFrame() # Create empty dataframe for intermediate file\n",
    "\n",
    "for info in relevant: # Assign columns from relevant list\n",
    "    imf[info] = []\n",
    "\n",
    "for file in os.listdir(\"../data/\"): # Iterate through directory\n",
    "    if '.maf' in str(file): # discard MANIFEST.txt and other non-maf files\n",
    "        df = pd.read_csv(\"../data/\"+ str(file), sep='\\t', skiprows=7, header=0) # read in the maf file as df\n",
    "        df = df[relevant] # subset dataframe to relevant information\n",
    "        imf = pd.concat([imf, df]) # write the relevant information to imf\n",
    "\n",
    "imf = imf.reset_index(drop=True) # Remove indexing column\n",
    "os.makedirs('../temp', exist_ok=True) # Check for the directory\n",
    "imf.to_csv('../temp/intermediate_mapping_file.csv', index = False)  # and create .csv file in the directory"
   ]
  }
 ],
 "metadata": {
  "kernelspec": {
   "display_name": "Python 3 (ipykernel)",
   "language": "python",
   "name": "python3"
  },
  "language_info": {
   "codemirror_mode": {
    "name": "ipython",
    "version": 3
   },
   "file_extension": ".py",
   "mimetype": "text/x-python",
   "name": "python",
   "nbconvert_exporter": "python",
   "pygments_lexer": "ipython3",
   "version": "3.10.9"
  }
 },
 "nbformat": 4,
 "nbformat_minor": 5
}
